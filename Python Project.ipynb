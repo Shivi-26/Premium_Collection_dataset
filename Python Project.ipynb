{
 "cells": [
  {
   "cell_type": "code",
   "execution_count": 1,
   "id": "fc4d94fb",
   "metadata": {
    "id": "fc4d94fb"
   },
   "outputs": [],
   "source": [
    "import pandas as pd\n",
    "import numpy as np\n",
    "import matplotlib.pyplot as plt"
   ]
  },
  {
   "cell_type": "code",
   "execution_count": 2,
   "id": "2ecf93e1",
   "metadata": {
    "id": "2ecf93e1"
   },
   "outputs": [],
   "source": [
    "df=pd.read_csv(r'C:\\Users\\tiwar\\Documents\\Premium Collection Data_1_Revised_updated2.csv')"
   ]
  },
  {
   "cell_type": "code",
   "execution_count": 3,
   "id": "75d57d0a",
   "metadata": {
    "id": "75d57d0a",
    "outputId": "9e9da469-73a3-4172-beff-8d0206573755"
   },
   "outputs": [
    {
     "data": {
      "text/html": [
       "<div>\n",
       "<style scoped>\n",
       "    .dataframe tbody tr th:only-of-type {\n",
       "        vertical-align: middle;\n",
       "    }\n",
       "\n",
       "    .dataframe tbody tr th {\n",
       "        vertical-align: top;\n",
       "    }\n",
       "\n",
       "    .dataframe thead th {\n",
       "        text-align: right;\n",
       "    }\n",
       "</style>\n",
       "<table border=\"1\" class=\"dataframe\">\n",
       "  <thead>\n",
       "    <tr style=\"text-align: right;\">\n",
       "      <th></th>\n",
       "      <th>Policy_Number</th>\n",
       "      <th>Number</th>\n",
       "      <th>Batch Count</th>\n",
       "      <th>Month_Year</th>\n",
       "      <th>Policy_Count</th>\n",
       "      <th>Transaction Type</th>\n",
       "      <th>Policy Type</th>\n",
       "      <th>Branch Name</th>\n",
       "      <th>Zone_Name</th>\n",
       "      <th>Transactiondate</th>\n",
       "      <th>...</th>\n",
       "      <th>Terr_Si</th>\n",
       "      <th>Lib_Si</th>\n",
       "      <th>Effect Date</th>\n",
       "      <th>Policy Start_Date</th>\n",
       "      <th>Policy_End_Date</th>\n",
       "      <th>Sales Channel Name</th>\n",
       "      <th>Statename</th>\n",
       "      <th>Source</th>\n",
       "      <th>Booking_Type</th>\n",
       "      <th>GWP_TERR</th>\n",
       "    </tr>\n",
       "  </thead>\n",
       "  <tbody>\n",
       "    <tr>\n",
       "      <th>0</th>\n",
       "      <td>NaN</td>\n",
       "      <td>NaN</td>\n",
       "      <td>NaN</td>\n",
       "      <td>NaN</td>\n",
       "      <td>NaN</td>\n",
       "      <td>NaN</td>\n",
       "      <td>NaN</td>\n",
       "      <td>NaN</td>\n",
       "      <td>NaN</td>\n",
       "      <td>NaN</td>\n",
       "      <td>...</td>\n",
       "      <td>NaN</td>\n",
       "      <td>NaN</td>\n",
       "      <td>NaN</td>\n",
       "      <td>NaN</td>\n",
       "      <td>NaN</td>\n",
       "      <td>NaN</td>\n",
       "      <td>NaN</td>\n",
       "      <td>NaN</td>\n",
       "      <td>NaN</td>\n",
       "      <td>NaN</td>\n",
       "    </tr>\n",
       "    <tr>\n",
       "      <th>1</th>\n",
       "      <td>NaN</td>\n",
       "      <td>NaN</td>\n",
       "      <td>NaN</td>\n",
       "      <td>NaN</td>\n",
       "      <td>NaN</td>\n",
       "      <td>NaN</td>\n",
       "      <td>NaN</td>\n",
       "      <td>NaN</td>\n",
       "      <td>NaN</td>\n",
       "      <td>NaN</td>\n",
       "      <td>...</td>\n",
       "      <td>NaN</td>\n",
       "      <td>NaN</td>\n",
       "      <td>NaN</td>\n",
       "      <td>NaN</td>\n",
       "      <td>NaN</td>\n",
       "      <td>NaN</td>\n",
       "      <td>NaN</td>\n",
       "      <td>NaN</td>\n",
       "      <td>NaN</td>\n",
       "      <td>NaN</td>\n",
       "    </tr>\n",
       "    <tr>\n",
       "      <th>2</th>\n",
       "      <td>M313167</td>\n",
       "      <td>1.0</td>\n",
       "      <td>1.0</td>\n",
       "      <td>20-Apr</td>\n",
       "      <td>1.0</td>\n",
       "      <td>New Business Issue</td>\n",
       "      <td>Extended Warranty - MOTOR</td>\n",
       "      <td>CORPORATE OFFICE</td>\n",
       "      <td>CORPORATE OFFICE</td>\n",
       "      <td>20200417.0</td>\n",
       "      <td>...</td>\n",
       "      <td>0.0</td>\n",
       "      <td>0.0</td>\n",
       "      <td>20200111.0</td>\n",
       "      <td>20200111.0</td>\n",
       "      <td>20240827.0</td>\n",
       "      <td>National Tie up</td>\n",
       "      <td>Gujarat</td>\n",
       "      <td>National Tie Up</td>\n",
       "      <td>NEW BUSINESS</td>\n",
       "      <td>0.0</td>\n",
       "    </tr>\n",
       "    <tr>\n",
       "      <th>3</th>\n",
       "      <td>M226177</td>\n",
       "      <td>1.0</td>\n",
       "      <td>1.0</td>\n",
       "      <td>20-Apr</td>\n",
       "      <td>1.0</td>\n",
       "      <td>New Business Issue</td>\n",
       "      <td>Extended Warranty - MOTOR</td>\n",
       "      <td>CORPORATE OFFICE</td>\n",
       "      <td>CORPORATE OFFICE</td>\n",
       "      <td>20200429.0</td>\n",
       "      <td>...</td>\n",
       "      <td>0.0</td>\n",
       "      <td>0.0</td>\n",
       "      <td>20200229.0</td>\n",
       "      <td>20200229.0</td>\n",
       "      <td>20230503.0</td>\n",
       "      <td>Motor Dealer DSA</td>\n",
       "      <td>Tamil Nadu</td>\n",
       "      <td>MOTOR DEALER</td>\n",
       "      <td>NEW BUSINESS</td>\n",
       "      <td>0.0</td>\n",
       "    </tr>\n",
       "    <tr>\n",
       "      <th>4</th>\n",
       "      <td>A550713</td>\n",
       "      <td>1.0</td>\n",
       "      <td>1.0</td>\n",
       "      <td>20-Apr</td>\n",
       "      <td>1.0</td>\n",
       "      <td>New Business Issue</td>\n",
       "      <td>Accident Insurance</td>\n",
       "      <td>LUCKNOW</td>\n",
       "      <td>NORTH ZONE</td>\n",
       "      <td>20200413.0</td>\n",
       "      <td>...</td>\n",
       "      <td>0.0</td>\n",
       "      <td>200000.0</td>\n",
       "      <td>20200320.0</td>\n",
       "      <td>20200320.0</td>\n",
       "      <td>20210319.0</td>\n",
       "      <td>Bank</td>\n",
       "      <td>UTTAR PRADESH</td>\n",
       "      <td>Bancassurance-Corporate Agent</td>\n",
       "      <td>NEW BUSINESS</td>\n",
       "      <td>0.0</td>\n",
       "    </tr>\n",
       "  </tbody>\n",
       "</table>\n",
       "<p>5 rows × 25 columns</p>\n",
       "</div>"
      ],
      "text/plain": [
       "  Policy_Number  Number  Batch Count Month_Year  Policy_Count  \\\n",
       "0           NaN     NaN          NaN        NaN           NaN   \n",
       "1           NaN     NaN          NaN        NaN           NaN   \n",
       "2       M313167     1.0          1.0     20-Apr           1.0   \n",
       "3       M226177     1.0          1.0     20-Apr           1.0   \n",
       "4       A550713     1.0          1.0     20-Apr           1.0   \n",
       "\n",
       "     Transaction Type                Policy Type       Branch Name  \\\n",
       "0                 NaN                        NaN               NaN   \n",
       "1                 NaN                        NaN               NaN   \n",
       "2  New Business Issue  Extended Warranty - MOTOR  CORPORATE OFFICE   \n",
       "3  New Business Issue  Extended Warranty - MOTOR  CORPORATE OFFICE   \n",
       "4  New Business Issue         Accident Insurance           LUCKNOW   \n",
       "\n",
       "          Zone_Name  Transactiondate  ... Terr_Si    Lib_Si  Effect Date  \\\n",
       "0               NaN              NaN  ...     NaN       NaN          NaN   \n",
       "1               NaN              NaN  ...     NaN       NaN          NaN   \n",
       "2  CORPORATE OFFICE       20200417.0  ...     0.0       0.0   20200111.0   \n",
       "3  CORPORATE OFFICE       20200429.0  ...     0.0       0.0   20200229.0   \n",
       "4        NORTH ZONE       20200413.0  ...     0.0  200000.0   20200320.0   \n",
       "\n",
       "   Policy Start_Date  Policy_End_Date  Sales Channel Name      Statename  \\\n",
       "0                NaN              NaN                 NaN            NaN   \n",
       "1                NaN              NaN                 NaN            NaN   \n",
       "2         20200111.0       20240827.0     National Tie up        Gujarat   \n",
       "3         20200229.0       20230503.0    Motor Dealer DSA     Tamil Nadu   \n",
       "4         20200320.0       20210319.0                Bank  UTTAR PRADESH   \n",
       "\n",
       "                          Source  Booking_Type  GWP_TERR  \n",
       "0                            NaN           NaN       NaN  \n",
       "1                            NaN           NaN       NaN  \n",
       "2                National Tie Up  NEW BUSINESS       0.0  \n",
       "3                   MOTOR DEALER  NEW BUSINESS       0.0  \n",
       "4  Bancassurance-Corporate Agent  NEW BUSINESS       0.0  \n",
       "\n",
       "[5 rows x 25 columns]"
      ]
     },
     "execution_count": 3,
     "metadata": {},
     "output_type": "execute_result"
    }
   ],
   "source": [
    "df.head()"
   ]
  },
  {
   "cell_type": "code",
   "execution_count": 4,
   "id": "418d283f",
   "metadata": {
    "id": "418d283f",
    "outputId": "7bbaf92e-2be5-41d0-b914-a28591d6f6a5"
   },
   "outputs": [
    {
     "data": {
      "text/plain": [
       "(276376, 25)"
      ]
     },
     "execution_count": 4,
     "metadata": {},
     "output_type": "execute_result"
    }
   ],
   "source": [
    "df.shape"
   ]
  },
  {
   "cell_type": "code",
   "execution_count": 5,
   "id": "299decba",
   "metadata": {
    "id": "299decba"
   },
   "outputs": [],
   "source": [
    "df=df.dropna(how=\"all\")"
   ]
  },
  {
   "cell_type": "code",
   "execution_count": 6,
   "id": "357ea257",
   "metadata": {
    "id": "357ea257",
    "outputId": "74189339-5787-4aaa-d285-175f040548e4"
   },
   "outputs": [
    {
     "data": {
      "text/plain": [
       "(276374, 25)"
      ]
     },
     "execution_count": 6,
     "metadata": {},
     "output_type": "execute_result"
    }
   ],
   "source": [
    "df.shape"
   ]
  },
  {
   "cell_type": "code",
   "execution_count": 7,
   "id": "256322d8",
   "metadata": {
    "id": "256322d8"
   },
   "outputs": [],
   "source": [
    "df2=pd.read_csv(r'C:\\Users\\tiwar\\Documents\\Premium Collection Data 2_Revised_updated2.csv')"
   ]
  },
  {
   "cell_type": "code",
   "execution_count": 8,
   "id": "3efa48b8",
   "metadata": {
    "id": "3efa48b8",
    "outputId": "2e029d20-17aa-4f73-c4e8-1e27468a18ea"
   },
   "outputs": [
    {
     "data": {
      "text/plain": [
       "Index(['Policy_Number', 'Number', 'Batch Count', 'Month_Year', 'Policy_Count',\n",
       "       'Transaction Type', 'Policy Type', 'Branch Name', 'Zone_Name',\n",
       "       'Transactiondate', 'Co-Insurance Or Not', 'Gross Written Premium',\n",
       "       'Commission', 'Total Premium', 'Service Tax', 'TERR_SI', 'LIB_SI',\n",
       "       'Effect Date', 'Policy Start_Date', 'Policy_End_Date',\n",
       "       'Sales Channel Name', 'Statename', 'Source', 'Booking_Type', 'GWP_TERR',\n",
       "       'F26'],\n",
       "      dtype='object')"
      ]
     },
     "execution_count": 8,
     "metadata": {},
     "output_type": "execute_result"
    }
   ],
   "source": [
    "df2.columns"
   ]
  },
  {
   "cell_type": "code",
   "execution_count": 9,
   "id": "58d12fe7",
   "metadata": {
    "id": "58d12fe7"
   },
   "outputs": [],
   "source": [
    "df2=df2.dropna(how=\"all\")"
   ]
  },
  {
   "cell_type": "code",
   "execution_count": 10,
   "id": "d6efee69",
   "metadata": {
    "id": "d6efee69",
    "outputId": "37b31057-a619-47cc-c72d-0538bd97209a"
   },
   "outputs": [
    {
     "data": {
      "text/plain": [
       "(400004, 26)"
      ]
     },
     "execution_count": 10,
     "metadata": {},
     "output_type": "execute_result"
    }
   ],
   "source": [
    "df2.shape"
   ]
  },
  {
   "cell_type": "code",
   "execution_count": 11,
   "id": "97e916bb",
   "metadata": {
    "id": "97e916bb"
   },
   "outputs": [],
   "source": [
    "#Append both the datasets in a single python variable as premium data"
   ]
  },
  {
   "cell_type": "code",
   "execution_count": 12,
   "id": "0a8538bd",
   "metadata": {
    "id": "0a8538bd",
    "outputId": "7750ac58-5ff3-4cfb-c6b3-f38878906dbd"
   },
   "outputs": [],
   "source": [
    "df3=df.append(df2)"
   ]
  },
  {
   "cell_type": "code",
   "execution_count": 13,
   "id": "9d6f8853",
   "metadata": {
    "id": "9d6f8853",
    "outputId": "6347554e-2f2b-4962-ef1c-c5c9c4a0c80e"
   },
   "outputs": [
    {
     "data": {
      "text/plain": [
       "(676378, 28)"
      ]
     },
     "execution_count": 13,
     "metadata": {},
     "output_type": "execute_result"
    }
   ],
   "source": [
    "df3.shape"
   ]
  },
  {
   "cell_type": "code",
   "execution_count": 14,
   "id": "74e720a7",
   "metadata": {
    "id": "74e720a7",
    "outputId": "08b56434-7f96-4352-8c2f-b5d94f2e9c21"
   },
   "outputs": [
    {
     "data": {
      "text/html": [
       "<div>\n",
       "<style scoped>\n",
       "    .dataframe tbody tr th:only-of-type {\n",
       "        vertical-align: middle;\n",
       "    }\n",
       "\n",
       "    .dataframe tbody tr th {\n",
       "        vertical-align: top;\n",
       "    }\n",
       "\n",
       "    .dataframe thead th {\n",
       "        text-align: right;\n",
       "    }\n",
       "</style>\n",
       "<table border=\"1\" class=\"dataframe\">\n",
       "  <thead>\n",
       "    <tr style=\"text-align: right;\">\n",
       "      <th></th>\n",
       "      <th>Policy_Number</th>\n",
       "      <th>Number</th>\n",
       "      <th>Batch Count</th>\n",
       "      <th>Month_Year</th>\n",
       "      <th>Policy_Count</th>\n",
       "      <th>Transaction Type</th>\n",
       "      <th>Policy Type</th>\n",
       "      <th>Branch Name</th>\n",
       "      <th>Zone_Name</th>\n",
       "      <th>Transactiondate</th>\n",
       "      <th>...</th>\n",
       "      <th>Policy Start_Date</th>\n",
       "      <th>Policy_End_Date</th>\n",
       "      <th>Sales Channel Name</th>\n",
       "      <th>Statename</th>\n",
       "      <th>Source</th>\n",
       "      <th>Booking_Type</th>\n",
       "      <th>GWP_TERR</th>\n",
       "      <th>TERR_SI</th>\n",
       "      <th>LIB_SI</th>\n",
       "      <th>F26</th>\n",
       "    </tr>\n",
       "  </thead>\n",
       "  <tbody>\n",
       "    <tr>\n",
       "      <th>2</th>\n",
       "      <td>M313167</td>\n",
       "      <td>1.0</td>\n",
       "      <td>1.0</td>\n",
       "      <td>20-Apr</td>\n",
       "      <td>1.0</td>\n",
       "      <td>New Business Issue</td>\n",
       "      <td>Extended Warranty - MOTOR</td>\n",
       "      <td>CORPORATE OFFICE</td>\n",
       "      <td>CORPORATE OFFICE</td>\n",
       "      <td>20200417.0</td>\n",
       "      <td>...</td>\n",
       "      <td>20200111.0</td>\n",
       "      <td>20240827.0</td>\n",
       "      <td>National Tie up</td>\n",
       "      <td>Gujarat</td>\n",
       "      <td>National Tie Up</td>\n",
       "      <td>NEW BUSINESS</td>\n",
       "      <td>0.0</td>\n",
       "      <td>NaN</td>\n",
       "      <td>NaN</td>\n",
       "      <td>NaN</td>\n",
       "    </tr>\n",
       "    <tr>\n",
       "      <th>3</th>\n",
       "      <td>M226177</td>\n",
       "      <td>1.0</td>\n",
       "      <td>1.0</td>\n",
       "      <td>20-Apr</td>\n",
       "      <td>1.0</td>\n",
       "      <td>New Business Issue</td>\n",
       "      <td>Extended Warranty - MOTOR</td>\n",
       "      <td>CORPORATE OFFICE</td>\n",
       "      <td>CORPORATE OFFICE</td>\n",
       "      <td>20200429.0</td>\n",
       "      <td>...</td>\n",
       "      <td>20200229.0</td>\n",
       "      <td>20230503.0</td>\n",
       "      <td>Motor Dealer DSA</td>\n",
       "      <td>Tamil Nadu</td>\n",
       "      <td>MOTOR DEALER</td>\n",
       "      <td>NEW BUSINESS</td>\n",
       "      <td>0.0</td>\n",
       "      <td>NaN</td>\n",
       "      <td>NaN</td>\n",
       "      <td>NaN</td>\n",
       "    </tr>\n",
       "    <tr>\n",
       "      <th>4</th>\n",
       "      <td>A550713</td>\n",
       "      <td>1.0</td>\n",
       "      <td>1.0</td>\n",
       "      <td>20-Apr</td>\n",
       "      <td>1.0</td>\n",
       "      <td>New Business Issue</td>\n",
       "      <td>Accident Insurance</td>\n",
       "      <td>LUCKNOW</td>\n",
       "      <td>NORTH ZONE</td>\n",
       "      <td>20200413.0</td>\n",
       "      <td>...</td>\n",
       "      <td>20200320.0</td>\n",
       "      <td>20210319.0</td>\n",
       "      <td>Bank</td>\n",
       "      <td>UTTAR PRADESH</td>\n",
       "      <td>Bancassurance-Corporate Agent</td>\n",
       "      <td>NEW BUSINESS</td>\n",
       "      <td>0.0</td>\n",
       "      <td>NaN</td>\n",
       "      <td>NaN</td>\n",
       "      <td>NaN</td>\n",
       "    </tr>\n",
       "    <tr>\n",
       "      <th>5</th>\n",
       "      <td>M465416</td>\n",
       "      <td>1.0</td>\n",
       "      <td>1.0</td>\n",
       "      <td>20-Apr</td>\n",
       "      <td>1.0</td>\n",
       "      <td>New Business Issue</td>\n",
       "      <td>Extended Warranty - MOTOR</td>\n",
       "      <td>CORPORATE OFFICE</td>\n",
       "      <td>CORPORATE OFFICE</td>\n",
       "      <td>20200429.0</td>\n",
       "      <td>...</td>\n",
       "      <td>20181101.0</td>\n",
       "      <td>20230207.0</td>\n",
       "      <td>Motor Dealer DSA</td>\n",
       "      <td>Tamil Nadu</td>\n",
       "      <td>MOTOR DEALER</td>\n",
       "      <td>NEW BUSINESS</td>\n",
       "      <td>0.0</td>\n",
       "      <td>NaN</td>\n",
       "      <td>NaN</td>\n",
       "      <td>NaN</td>\n",
       "    </tr>\n",
       "    <tr>\n",
       "      <th>6</th>\n",
       "      <td>M963293</td>\n",
       "      <td>1.0</td>\n",
       "      <td>1.0</td>\n",
       "      <td>20-Apr</td>\n",
       "      <td>1.0</td>\n",
       "      <td>New Business Issue</td>\n",
       "      <td>Extended Warranty - MOTOR</td>\n",
       "      <td>CORPORATE OFFICE</td>\n",
       "      <td>CORPORATE OFFICE</td>\n",
       "      <td>20200429.0</td>\n",
       "      <td>...</td>\n",
       "      <td>20191125.0</td>\n",
       "      <td>20230117.0</td>\n",
       "      <td>Motor Dealer DSA</td>\n",
       "      <td>Tamil Nadu</td>\n",
       "      <td>MOTOR DEALER</td>\n",
       "      <td>NEW BUSINESS</td>\n",
       "      <td>0.0</td>\n",
       "      <td>NaN</td>\n",
       "      <td>NaN</td>\n",
       "      <td>NaN</td>\n",
       "    </tr>\n",
       "  </tbody>\n",
       "</table>\n",
       "<p>5 rows × 28 columns</p>\n",
       "</div>"
      ],
      "text/plain": [
       "  Policy_Number  Number  Batch Count Month_Year  Policy_Count  \\\n",
       "2       M313167     1.0          1.0     20-Apr           1.0   \n",
       "3       M226177     1.0          1.0     20-Apr           1.0   \n",
       "4       A550713     1.0          1.0     20-Apr           1.0   \n",
       "5       M465416     1.0          1.0     20-Apr           1.0   \n",
       "6       M963293     1.0          1.0     20-Apr           1.0   \n",
       "\n",
       "     Transaction Type                Policy Type       Branch Name  \\\n",
       "2  New Business Issue  Extended Warranty - MOTOR  CORPORATE OFFICE   \n",
       "3  New Business Issue  Extended Warranty - MOTOR  CORPORATE OFFICE   \n",
       "4  New Business Issue         Accident Insurance           LUCKNOW   \n",
       "5  New Business Issue  Extended Warranty - MOTOR  CORPORATE OFFICE   \n",
       "6  New Business Issue  Extended Warranty - MOTOR  CORPORATE OFFICE   \n",
       "\n",
       "          Zone_Name  Transactiondate  ... Policy Start_Date  Policy_End_Date  \\\n",
       "2  CORPORATE OFFICE       20200417.0  ...        20200111.0       20240827.0   \n",
       "3  CORPORATE OFFICE       20200429.0  ...        20200229.0       20230503.0   \n",
       "4        NORTH ZONE       20200413.0  ...        20200320.0       20210319.0   \n",
       "5  CORPORATE OFFICE       20200429.0  ...        20181101.0       20230207.0   \n",
       "6  CORPORATE OFFICE       20200429.0  ...        20191125.0       20230117.0   \n",
       "\n",
       "   Sales Channel Name      Statename                         Source  \\\n",
       "2     National Tie up        Gujarat                National Tie Up   \n",
       "3    Motor Dealer DSA     Tamil Nadu                   MOTOR DEALER   \n",
       "4                Bank  UTTAR PRADESH  Bancassurance-Corporate Agent   \n",
       "5    Motor Dealer DSA     Tamil Nadu                   MOTOR DEALER   \n",
       "6    Motor Dealer DSA     Tamil Nadu                   MOTOR DEALER   \n",
       "\n",
       "   Booking_Type  GWP_TERR  TERR_SI  LIB_SI  F26  \n",
       "2  NEW BUSINESS       0.0      NaN     NaN  NaN  \n",
       "3  NEW BUSINESS       0.0      NaN     NaN  NaN  \n",
       "4  NEW BUSINESS       0.0      NaN     NaN  NaN  \n",
       "5  NEW BUSINESS       0.0      NaN     NaN  NaN  \n",
       "6  NEW BUSINESS       0.0      NaN     NaN  NaN  \n",
       "\n",
       "[5 rows x 28 columns]"
      ]
     },
     "execution_count": 14,
     "metadata": {},
     "output_type": "execute_result"
    }
   ],
   "source": [
    "df3.head()"
   ]
  },
  {
   "cell_type": "code",
   "execution_count": 15,
   "id": "de1e8aeb",
   "metadata": {
    "id": "de1e8aeb"
   },
   "outputs": [
    {
     "data": {
      "text/plain": [
       "Index(['Policy_Number', 'Number', 'Batch Count', 'Month_Year', 'Policy_Count',\n",
       "       'Transaction Type', 'Policy Type', 'Branch Name', 'Zone_Name',\n",
       "       'Transactiondate', 'Co-Insurance Or Not', 'Gross Written Premium',\n",
       "       'Commission', 'Total Premium', 'Service Tax', 'Terr_Si', 'Lib_Si',\n",
       "       'Effect Date', 'Policy Start_Date', 'Policy_End_Date',\n",
       "       'Sales Channel Name', 'Statename', 'Source', 'Booking_Type', 'GWP_TERR',\n",
       "       'TERR_SI', 'LIB_SI', 'F26'],\n",
       "      dtype='object')"
      ]
     },
     "execution_count": 15,
     "metadata": {},
     "output_type": "execute_result"
    }
   ],
   "source": [
    "df3.columns\n",
    "#Calculate the Number of New Business Issue in the column Transaction Type."
   ]
  },
  {
   "cell_type": "code",
   "execution_count": 16,
   "id": "f26690e6",
   "metadata": {
    "id": "f26690e6",
    "outputId": "c2f1d8c0-edef-4aba-9085-63e1c756fc09"
   },
   "outputs": [
    {
     "data": {
      "text/plain": [
       "New Business Issue      630935\n",
       "Cancellation issue       25381\n",
       "Endorsement Issue        19741\n",
       "Policy Reinstatement       321\n",
       "Name: Transaction Type, dtype: int64"
      ]
     },
     "execution_count": 16,
     "metadata": {},
     "output_type": "execute_result"
    }
   ],
   "source": [
    "df3[\"Transaction Type\"].value_counts()"
   ]
  },
  {
   "cell_type": "code",
   "execution_count": 17,
   "id": "964120e7",
   "metadata": {
    "id": "964120e7",
    "outputId": "86caf7e5-513f-4490-9cf8-5b128086b1e3"
   },
   "outputs": [
    {
     "data": {
      "text/plain": [
       "Index(['Policy_Number', 'Number', 'Batch Count', 'Month_Year', 'Policy_Count',\n",
       "       'Transaction Type', 'Policy Type', 'Branch Name', 'Zone_Name',\n",
       "       'Transactiondate', 'Co-Insurance Or Not', 'Gross Written Premium',\n",
       "       'Commission', 'Total Premium', 'Service Tax', 'Terr_Si', 'Lib_Si',\n",
       "       'Effect Date', 'Policy Start_Date', 'Policy_End_Date',\n",
       "       'Sales Channel Name', 'Statename', 'Source', 'Booking_Type', 'GWP_TERR',\n",
       "       'TERR_SI', 'LIB_SI', 'F26'],\n",
       "      dtype='object')"
      ]
     },
     "execution_count": 17,
     "metadata": {},
     "output_type": "execute_result"
    }
   ],
   "source": [
    "df3.columns"
   ]
  },
  {
   "cell_type": "code",
   "execution_count": 18,
   "id": "1f87fc86",
   "metadata": {
    "id": "1f87fc86",
    "outputId": "0d9dc2b2-cbc9-4f59-9f88-27e0b494136d"
   },
   "outputs": [
    {
     "name": "stdout",
     "output_type": "stream",
     "text": [
      "Object `Written` not found.\n"
     ]
    }
   ],
   "source": [
    "#Which Zone and Branch have the best sales record depending on the Gross Premium\n",
    "Written?"
   ]
  },
  {
   "cell_type": "code",
   "execution_count": 19,
   "id": "7db2db40",
   "metadata": {
    "id": "7db2db40"
   },
   "outputs": [],
   "source": [
    "df4=pd.pivot_table(df,index=['Branch Name'],values=['Gross Written Premium'],aggfunc=np.sum).reset_index()"
   ]
  },
  {
   "cell_type": "code",
   "execution_count": 20,
   "id": "49ab0750",
   "metadata": {
    "id": "49ab0750",
    "outputId": "96730cbf-2087-4c49-dbe8-b4ac45e610cf"
   },
   "outputs": [
    {
     "data": {
      "text/html": [
       "<div>\n",
       "<style scoped>\n",
       "    .dataframe tbody tr th:only-of-type {\n",
       "        vertical-align: middle;\n",
       "    }\n",
       "\n",
       "    .dataframe tbody tr th {\n",
       "        vertical-align: top;\n",
       "    }\n",
       "\n",
       "    .dataframe thead th {\n",
       "        text-align: right;\n",
       "    }\n",
       "</style>\n",
       "<table border=\"1\" class=\"dataframe\">\n",
       "  <thead>\n",
       "    <tr style=\"text-align: right;\">\n",
       "      <th></th>\n",
       "      <th>Branch Name</th>\n",
       "      <th>Gross Written Premium</th>\n",
       "    </tr>\n",
       "  </thead>\n",
       "  <tbody>\n",
       "    <tr>\n",
       "      <th>32</th>\n",
       "      <td>CORPORATE OFFICE</td>\n",
       "      <td>1.365943e+09</td>\n",
       "    </tr>\n",
       "    <tr>\n",
       "      <th>7</th>\n",
       "      <td>ANDHERI</td>\n",
       "      <td>8.583466e+08</td>\n",
       "    </tr>\n",
       "    <tr>\n",
       "      <th>91</th>\n",
       "      <td>PUNE</td>\n",
       "      <td>7.769843e+08</td>\n",
       "    </tr>\n",
       "    <tr>\n",
       "      <th>31</th>\n",
       "      <td>CONNAUGHT PLACE</td>\n",
       "      <td>1.821112e+08</td>\n",
       "    </tr>\n",
       "    <tr>\n",
       "      <th>50</th>\n",
       "      <td>HYDERABAD</td>\n",
       "      <td>1.768832e+08</td>\n",
       "    </tr>\n",
       "    <tr>\n",
       "      <th>...</th>\n",
       "      <td>...</td>\n",
       "      <td>...</td>\n",
       "    </tr>\n",
       "    <tr>\n",
       "      <th>13</th>\n",
       "      <td>BARAMATI</td>\n",
       "      <td>4.523630e+03</td>\n",
       "    </tr>\n",
       "    <tr>\n",
       "      <th>86</th>\n",
       "      <td>PANCHKULA</td>\n",
       "      <td>2.504990e+03</td>\n",
       "    </tr>\n",
       "    <tr>\n",
       "      <th>116</th>\n",
       "      <td>VELACHERY</td>\n",
       "      <td>1.025000e+03</td>\n",
       "    </tr>\n",
       "    <tr>\n",
       "      <th>56</th>\n",
       "      <td>JAMMU</td>\n",
       "      <td>-2.220910e+04</td>\n",
       "    </tr>\n",
       "    <tr>\n",
       "      <th>10</th>\n",
       "      <td>ANNA NAGAR</td>\n",
       "      <td>-2.124940e+06</td>\n",
       "    </tr>\n",
       "  </tbody>\n",
       "</table>\n",
       "<p>122 rows × 2 columns</p>\n",
       "</div>"
      ],
      "text/plain": [
       "          Branch Name  Gross Written Premium\n",
       "32   CORPORATE OFFICE           1.365943e+09\n",
       "7             ANDHERI           8.583466e+08\n",
       "91               PUNE           7.769843e+08\n",
       "31    CONNAUGHT PLACE           1.821112e+08\n",
       "50          HYDERABAD           1.768832e+08\n",
       "..                ...                    ...\n",
       "13           BARAMATI           4.523630e+03\n",
       "86          PANCHKULA           2.504990e+03\n",
       "116         VELACHERY           1.025000e+03\n",
       "56              JAMMU          -2.220910e+04\n",
       "10         ANNA NAGAR          -2.124940e+06\n",
       "\n",
       "[122 rows x 2 columns]"
      ]
     },
     "execution_count": 20,
     "metadata": {},
     "output_type": "execute_result"
    }
   ],
   "source": [
    "df4.sort_values(by=['Gross Written Premium'],ascending=False)"
   ]
  },
  {
   "cell_type": "code",
   "execution_count": 21,
   "id": "e12058ab",
   "metadata": {
    "id": "e12058ab"
   },
   "outputs": [],
   "source": [
    "df5=pd.pivot_table(df,index=['Zone_Name'],values=['Gross Written Premium'],aggfunc=np.mean).reset_index()"
   ]
  },
  {
   "cell_type": "code",
   "execution_count": 22,
   "id": "47a02bfd",
   "metadata": {
    "id": "47a02bfd",
    "outputId": "2c2a52fd-b0c4-430a-fc94-ca81557de7dc"
   },
   "outputs": [
    {
     "data": {
      "text/html": [
       "<div>\n",
       "<style scoped>\n",
       "    .dataframe tbody tr th:only-of-type {\n",
       "        vertical-align: middle;\n",
       "    }\n",
       "\n",
       "    .dataframe tbody tr th {\n",
       "        vertical-align: top;\n",
       "    }\n",
       "\n",
       "    .dataframe thead th {\n",
       "        text-align: right;\n",
       "    }\n",
       "</style>\n",
       "<table border=\"1\" class=\"dataframe\">\n",
       "  <thead>\n",
       "    <tr style=\"text-align: right;\">\n",
       "      <th></th>\n",
       "      <th>Zone_Name</th>\n",
       "      <th>Gross Written Premium</th>\n",
       "    </tr>\n",
       "  </thead>\n",
       "  <tbody>\n",
       "    <tr>\n",
       "      <th>3</th>\n",
       "      <td>MUMBAI ZONE</td>\n",
       "      <td>56194.364780</td>\n",
       "    </tr>\n",
       "    <tr>\n",
       "      <th>7</th>\n",
       "      <td>WEST ZONE</td>\n",
       "      <td>44587.884797</td>\n",
       "    </tr>\n",
       "    <tr>\n",
       "      <th>5</th>\n",
       "      <td>SOUTH ZONE</td>\n",
       "      <td>37092.826485</td>\n",
       "    </tr>\n",
       "    <tr>\n",
       "      <th>1</th>\n",
       "      <td>CORPORATE OFFICE</td>\n",
       "      <td>34658.049217</td>\n",
       "    </tr>\n",
       "    <tr>\n",
       "      <th>6</th>\n",
       "      <td>TN ZONE</td>\n",
       "      <td>12377.155004</td>\n",
       "    </tr>\n",
       "    <tr>\n",
       "      <th>0</th>\n",
       "      <td>CENTRAL ZONE</td>\n",
       "      <td>8497.937300</td>\n",
       "    </tr>\n",
       "    <tr>\n",
       "      <th>2</th>\n",
       "      <td>EAST ZONE</td>\n",
       "      <td>4563.374810</td>\n",
       "    </tr>\n",
       "    <tr>\n",
       "      <th>4</th>\n",
       "      <td>NORTH ZONE</td>\n",
       "      <td>2121.551301</td>\n",
       "    </tr>\n",
       "  </tbody>\n",
       "</table>\n",
       "</div>"
      ],
      "text/plain": [
       "          Zone_Name  Gross Written Premium\n",
       "3       MUMBAI ZONE           56194.364780\n",
       "7         WEST ZONE           44587.884797\n",
       "5        SOUTH ZONE           37092.826485\n",
       "1  CORPORATE OFFICE           34658.049217\n",
       "6           TN ZONE           12377.155004\n",
       "0      CENTRAL ZONE            8497.937300\n",
       "2         EAST ZONE            4563.374810\n",
       "4        NORTH ZONE            2121.551301"
      ]
     },
     "execution_count": 22,
     "metadata": {},
     "output_type": "execute_result"
    }
   ],
   "source": [
    "df5.sort_values(by=['Gross Written Premium'],ascending=False)"
   ]
  },
  {
   "cell_type": "code",
   "execution_count": 23,
   "id": "bdf705b3",
   "metadata": {
    "id": "bdf705b3"
   },
   "outputs": [],
   "source": [
    "df3['ROC']=df3['Commission']/df3['GWP_TERR']*100"
   ]
  },
  {
   "cell_type": "code",
   "execution_count": 24,
   "id": "d95750bb",
   "metadata": {
    "id": "d95750bb"
   },
   "outputs": [],
   "source": [
    "a=df3.groupby(['Commission'])"
   ]
  },
  {
   "cell_type": "code",
   "execution_count": 25,
   "id": "73cb7002",
   "metadata": {
    "id": "73cb7002",
    "outputId": "c0f885ac-22a2-4821-fadd-aa2eaa2f26b9"
   },
   "outputs": [
    {
     "data": {
      "text/plain": [
       "<pandas.core.groupby.generic.DataFrameGroupBy object at 0x000001BF6ADB9B20>"
      ]
     },
     "execution_count": 25,
     "metadata": {},
     "output_type": "execute_result"
    }
   ],
   "source": [
    "a"
   ]
  },
  {
   "cell_type": "code",
   "execution_count": 26,
   "id": "ccc366ab",
   "metadata": {
    "id": "ccc366ab",
    "outputId": "b5260679-ff4e-4997-d8df-67df22271df4"
   },
   "outputs": [
    {
     "data": {
      "text/html": [
       "<div>\n",
       "<style scoped>\n",
       "    .dataframe tbody tr th:only-of-type {\n",
       "        vertical-align: middle;\n",
       "    }\n",
       "\n",
       "    .dataframe tbody tr th {\n",
       "        vertical-align: top;\n",
       "    }\n",
       "\n",
       "    .dataframe thead th {\n",
       "        text-align: right;\n",
       "    }\n",
       "</style>\n",
       "<table border=\"1\" class=\"dataframe\">\n",
       "  <thead>\n",
       "    <tr style=\"text-align: right;\">\n",
       "      <th></th>\n",
       "      <th>Policy_Number</th>\n",
       "      <th>Number</th>\n",
       "      <th>Batch Count</th>\n",
       "      <th>Month_Year</th>\n",
       "      <th>Policy_Count</th>\n",
       "      <th>Transaction Type</th>\n",
       "      <th>Policy Type</th>\n",
       "      <th>Branch Name</th>\n",
       "      <th>Zone_Name</th>\n",
       "      <th>Transactiondate</th>\n",
       "      <th>...</th>\n",
       "      <th>Policy_End_Date</th>\n",
       "      <th>Sales Channel Name</th>\n",
       "      <th>Statename</th>\n",
       "      <th>Source</th>\n",
       "      <th>Booking_Type</th>\n",
       "      <th>GWP_TERR</th>\n",
       "      <th>TERR_SI</th>\n",
       "      <th>LIB_SI</th>\n",
       "      <th>F26</th>\n",
       "      <th>ROC</th>\n",
       "    </tr>\n",
       "  </thead>\n",
       "  <tbody>\n",
       "    <tr>\n",
       "      <th>2</th>\n",
       "      <td>M313167</td>\n",
       "      <td>1.0</td>\n",
       "      <td>1.0</td>\n",
       "      <td>20-Apr</td>\n",
       "      <td>1.0</td>\n",
       "      <td>New Business Issue</td>\n",
       "      <td>Extended Warranty - MOTOR</td>\n",
       "      <td>CORPORATE OFFICE</td>\n",
       "      <td>CORPORATE OFFICE</td>\n",
       "      <td>20200417.0</td>\n",
       "      <td>...</td>\n",
       "      <td>20240827.0</td>\n",
       "      <td>National Tie up</td>\n",
       "      <td>Gujarat</td>\n",
       "      <td>National Tie Up</td>\n",
       "      <td>NEW BUSINESS</td>\n",
       "      <td>0.0</td>\n",
       "      <td>NaN</td>\n",
       "      <td>NaN</td>\n",
       "      <td>NaN</td>\n",
       "      <td>inf</td>\n",
       "    </tr>\n",
       "    <tr>\n",
       "      <th>3</th>\n",
       "      <td>M226177</td>\n",
       "      <td>1.0</td>\n",
       "      <td>1.0</td>\n",
       "      <td>20-Apr</td>\n",
       "      <td>1.0</td>\n",
       "      <td>New Business Issue</td>\n",
       "      <td>Extended Warranty - MOTOR</td>\n",
       "      <td>CORPORATE OFFICE</td>\n",
       "      <td>CORPORATE OFFICE</td>\n",
       "      <td>20200429.0</td>\n",
       "      <td>...</td>\n",
       "      <td>20230503.0</td>\n",
       "      <td>Motor Dealer DSA</td>\n",
       "      <td>Tamil Nadu</td>\n",
       "      <td>MOTOR DEALER</td>\n",
       "      <td>NEW BUSINESS</td>\n",
       "      <td>0.0</td>\n",
       "      <td>NaN</td>\n",
       "      <td>NaN</td>\n",
       "      <td>NaN</td>\n",
       "      <td>inf</td>\n",
       "    </tr>\n",
       "    <tr>\n",
       "      <th>4</th>\n",
       "      <td>A550713</td>\n",
       "      <td>1.0</td>\n",
       "      <td>1.0</td>\n",
       "      <td>20-Apr</td>\n",
       "      <td>1.0</td>\n",
       "      <td>New Business Issue</td>\n",
       "      <td>Accident Insurance</td>\n",
       "      <td>LUCKNOW</td>\n",
       "      <td>NORTH ZONE</td>\n",
       "      <td>20200413.0</td>\n",
       "      <td>...</td>\n",
       "      <td>20210319.0</td>\n",
       "      <td>Bank</td>\n",
       "      <td>UTTAR PRADESH</td>\n",
       "      <td>Bancassurance-Corporate Agent</td>\n",
       "      <td>NEW BUSINESS</td>\n",
       "      <td>0.0</td>\n",
       "      <td>NaN</td>\n",
       "      <td>NaN</td>\n",
       "      <td>NaN</td>\n",
       "      <td>inf</td>\n",
       "    </tr>\n",
       "    <tr>\n",
       "      <th>5</th>\n",
       "      <td>M465416</td>\n",
       "      <td>1.0</td>\n",
       "      <td>1.0</td>\n",
       "      <td>20-Apr</td>\n",
       "      <td>1.0</td>\n",
       "      <td>New Business Issue</td>\n",
       "      <td>Extended Warranty - MOTOR</td>\n",
       "      <td>CORPORATE OFFICE</td>\n",
       "      <td>CORPORATE OFFICE</td>\n",
       "      <td>20200429.0</td>\n",
       "      <td>...</td>\n",
       "      <td>20230207.0</td>\n",
       "      <td>Motor Dealer DSA</td>\n",
       "      <td>Tamil Nadu</td>\n",
       "      <td>MOTOR DEALER</td>\n",
       "      <td>NEW BUSINESS</td>\n",
       "      <td>0.0</td>\n",
       "      <td>NaN</td>\n",
       "      <td>NaN</td>\n",
       "      <td>NaN</td>\n",
       "      <td>inf</td>\n",
       "    </tr>\n",
       "    <tr>\n",
       "      <th>6</th>\n",
       "      <td>M963293</td>\n",
       "      <td>1.0</td>\n",
       "      <td>1.0</td>\n",
       "      <td>20-Apr</td>\n",
       "      <td>1.0</td>\n",
       "      <td>New Business Issue</td>\n",
       "      <td>Extended Warranty - MOTOR</td>\n",
       "      <td>CORPORATE OFFICE</td>\n",
       "      <td>CORPORATE OFFICE</td>\n",
       "      <td>20200429.0</td>\n",
       "      <td>...</td>\n",
       "      <td>20230117.0</td>\n",
       "      <td>Motor Dealer DSA</td>\n",
       "      <td>Tamil Nadu</td>\n",
       "      <td>MOTOR DEALER</td>\n",
       "      <td>NEW BUSINESS</td>\n",
       "      <td>0.0</td>\n",
       "      <td>NaN</td>\n",
       "      <td>NaN</td>\n",
       "      <td>NaN</td>\n",
       "      <td>inf</td>\n",
       "    </tr>\n",
       "  </tbody>\n",
       "</table>\n",
       "<p>5 rows × 29 columns</p>\n",
       "</div>"
      ],
      "text/plain": [
       "  Policy_Number  Number  Batch Count Month_Year  Policy_Count  \\\n",
       "2       M313167     1.0          1.0     20-Apr           1.0   \n",
       "3       M226177     1.0          1.0     20-Apr           1.0   \n",
       "4       A550713     1.0          1.0     20-Apr           1.0   \n",
       "5       M465416     1.0          1.0     20-Apr           1.0   \n",
       "6       M963293     1.0          1.0     20-Apr           1.0   \n",
       "\n",
       "     Transaction Type                Policy Type       Branch Name  \\\n",
       "2  New Business Issue  Extended Warranty - MOTOR  CORPORATE OFFICE   \n",
       "3  New Business Issue  Extended Warranty - MOTOR  CORPORATE OFFICE   \n",
       "4  New Business Issue         Accident Insurance           LUCKNOW   \n",
       "5  New Business Issue  Extended Warranty - MOTOR  CORPORATE OFFICE   \n",
       "6  New Business Issue  Extended Warranty - MOTOR  CORPORATE OFFICE   \n",
       "\n",
       "          Zone_Name  Transactiondate  ... Policy_End_Date  Sales Channel Name  \\\n",
       "2  CORPORATE OFFICE       20200417.0  ...      20240827.0     National Tie up   \n",
       "3  CORPORATE OFFICE       20200429.0  ...      20230503.0    Motor Dealer DSA   \n",
       "4        NORTH ZONE       20200413.0  ...      20210319.0                Bank   \n",
       "5  CORPORATE OFFICE       20200429.0  ...      20230207.0    Motor Dealer DSA   \n",
       "6  CORPORATE OFFICE       20200429.0  ...      20230117.0    Motor Dealer DSA   \n",
       "\n",
       "       Statename                         Source  Booking_Type  GWP_TERR  \\\n",
       "2        Gujarat                National Tie Up  NEW BUSINESS       0.0   \n",
       "3     Tamil Nadu                   MOTOR DEALER  NEW BUSINESS       0.0   \n",
       "4  UTTAR PRADESH  Bancassurance-Corporate Agent  NEW BUSINESS       0.0   \n",
       "5     Tamil Nadu                   MOTOR DEALER  NEW BUSINESS       0.0   \n",
       "6     Tamil Nadu                   MOTOR DEALER  NEW BUSINESS       0.0   \n",
       "\n",
       "   TERR_SI  LIB_SI  F26  ROC  \n",
       "2      NaN     NaN  NaN  inf  \n",
       "3      NaN     NaN  NaN  inf  \n",
       "4      NaN     NaN  NaN  inf  \n",
       "5      NaN     NaN  NaN  inf  \n",
       "6      NaN     NaN  NaN  inf  \n",
       "\n",
       "[5 rows x 29 columns]"
      ]
     },
     "execution_count": 26,
     "metadata": {},
     "output_type": "execute_result"
    }
   ],
   "source": [
    "df3.head()"
   ]
  },
  {
   "cell_type": "code",
   "execution_count": 27,
   "id": "483b7dfe",
   "metadata": {
    "id": "483b7dfe"
   },
   "outputs": [
    {
     "data": {
      "text/plain": [
       "404004797.40999985"
      ]
     },
     "execution_count": 27,
     "metadata": {},
     "output_type": "execute_result"
    }
   ],
   "source": [
    "df3['Commission'].sum()"
   ]
  },
  {
   "cell_type": "code",
   "execution_count": 28,
   "id": "18dfd5d2",
   "metadata": {
    "id": "18dfd5d2",
    "outputId": "0fed1fd1-5828-4227-d6dc-215899751788"
   },
   "outputs": [
    {
     "data": {
      "text/plain": [
       "<pandas.core.groupby.generic.DataFrameGroupBy object at 0x000001BF6ADB9B20>"
      ]
     },
     "execution_count": 28,
     "metadata": {},
     "output_type": "execute_result"
    }
   ],
   "source": [
    "a"
   ]
  },
  {
   "cell_type": "code",
   "execution_count": 29,
   "id": "d939cad1",
   "metadata": {
    "id": "d939cad1"
   },
   "outputs": [],
   "source": [
    "b=df3['GWP_TERR'].sum()"
   ]
  },
  {
   "cell_type": "code",
   "execution_count": 30,
   "id": "a2eb7651",
   "metadata": {
    "id": "a2eb7651",
    "outputId": "a7485468-5448-415a-f69b-4e266c5e2c0a"
   },
   "outputs": [
    {
     "data": {
      "text/plain": [
       "79520850.89999999"
      ]
     },
     "execution_count": 30,
     "metadata": {},
     "output_type": "execute_result"
    }
   ],
   "source": [
    "b"
   ]
  },
  {
   "cell_type": "code",
   "execution_count": 31,
   "id": "d0fd70ba",
   "metadata": {
    "id": "d0fd70ba"
   },
   "outputs": [],
   "source": [
    "n=df.groupby(['Commission','GWP_TERR'])"
   ]
  },
  {
   "cell_type": "code",
   "execution_count": 32,
   "id": "e50e29cb",
   "metadata": {
    "id": "e50e29cb",
    "outputId": "7d684163-0a76-4e78-d697-007823f638ea"
   },
   "outputs": [
    {
     "data": {
      "text/plain": [
       "<pandas.core.groupby.generic.DataFrameGroupBy object at 0x000001BF6B31A280>"
      ]
     },
     "execution_count": 32,
     "metadata": {},
     "output_type": "execute_result"
    }
   ],
   "source": [
    "n"
   ]
  },
  {
   "cell_type": "markdown",
   "id": "85cf68d7",
   "metadata": {},
   "source": [
    "# Question 4"
   ]
  },
  {
   "cell_type": "code",
   "execution_count": 33,
   "id": "739aa58c",
   "metadata": {},
   "outputs": [
    {
     "data": {
      "text/plain": [
       "Commission\n",
       "-2059258.16               All Risk Insurance\n",
       "-2015422.07                 Mega Risk - Fire\n",
       "-1906102.01    Industrial All Risk Insurance\n",
       "-1689393.76                 Mega Risk - Fire\n",
       "-1580587.82                 Mega Fire-Inward\n",
       "                           ...              \n",
       " 1762361.98               All Risk Insurance\n",
       " 1788522.99                 Mega Fire-Inward\n",
       " 2055637.48    Industrial All Risk Insurance\n",
       " 2419859.94                 Mega Risk - Fire\n",
       " 3067335.27    Industrial All Risk Insurance\n",
       "Name: Policy Type, Length: 53292, dtype: object"
      ]
     },
     "execution_count": 33,
     "metadata": {},
     "output_type": "execute_result"
    }
   ],
   "source": [
    "#Total commisiion paid for each policy type\n",
    "df2.groupby('Commission')['Policy Type'].sum()"
   ]
  },
  {
   "cell_type": "code",
   "execution_count": 34,
   "id": "c1300164",
   "metadata": {},
   "outputs": [
    {
     "data": {
      "text/plain": [
       "Commission\n",
       "-2059258.16    Corporate Broking\n",
       "-2015422.07    Corporate Broking\n",
       "-1906102.01    Corporate Broking\n",
       "-1689393.76    Corporate Broking\n",
       "-1580587.82    Corporate Broking\n",
       "                     ...        \n",
       " 1762361.98                 Bank\n",
       " 1788522.99    Corporate Broking\n",
       " 2055637.48    Corporate Broking\n",
       " 2419859.94    Corporate Broking\n",
       " 3067335.27    Corporate Broking\n",
       "Name: Sales Channel Name, Length: 53292, dtype: object"
      ]
     },
     "execution_count": 34,
     "metadata": {},
     "output_type": "execute_result"
    }
   ],
   "source": [
    "#total commission paid for each sales channel name.\n",
    "df2.groupby('Commission')['Sales Channel Name'].sum()"
   ]
  },
  {
   "cell_type": "code",
   "execution_count": 35,
   "id": "da4e195e",
   "metadata": {},
   "outputs": [],
   "source": [
    "#Calculating Rate of commission.\n",
    "df2['Rate_of_commission']=df2['Commission']/df2['Gross Written Premium']"
   ]
  },
  {
   "cell_type": "code",
   "execution_count": 36,
   "id": "a90e869d",
   "metadata": {},
   "outputs": [
    {
     "data": {
      "text/html": [
       "<div>\n",
       "<style scoped>\n",
       "    .dataframe tbody tr th:only-of-type {\n",
       "        vertical-align: middle;\n",
       "    }\n",
       "\n",
       "    .dataframe tbody tr th {\n",
       "        vertical-align: top;\n",
       "    }\n",
       "\n",
       "    .dataframe thead th {\n",
       "        text-align: right;\n",
       "    }\n",
       "</style>\n",
       "<table border=\"1\" class=\"dataframe\">\n",
       "  <thead>\n",
       "    <tr style=\"text-align: right;\">\n",
       "      <th></th>\n",
       "      <th>Policy_Number</th>\n",
       "      <th>Number</th>\n",
       "      <th>Batch Count</th>\n",
       "      <th>Month_Year</th>\n",
       "      <th>Policy_Count</th>\n",
       "      <th>Transaction Type</th>\n",
       "      <th>Policy Type</th>\n",
       "      <th>Branch Name</th>\n",
       "      <th>Zone_Name</th>\n",
       "      <th>Transactiondate</th>\n",
       "      <th>...</th>\n",
       "      <th>Effect Date</th>\n",
       "      <th>Policy Start_Date</th>\n",
       "      <th>Policy_End_Date</th>\n",
       "      <th>Sales Channel Name</th>\n",
       "      <th>Statename</th>\n",
       "      <th>Source</th>\n",
       "      <th>Booking_Type</th>\n",
       "      <th>GWP_TERR</th>\n",
       "      <th>F26</th>\n",
       "      <th>Rate_of_commission</th>\n",
       "    </tr>\n",
       "  </thead>\n",
       "  <tbody>\n",
       "    <tr>\n",
       "      <th>1</th>\n",
       "      <td>A4883467</td>\n",
       "      <td>1.0</td>\n",
       "      <td>1.0</td>\n",
       "      <td>Apr-20</td>\n",
       "      <td>1.0</td>\n",
       "      <td>New Business Issue</td>\n",
       "      <td>Accident Insurance</td>\n",
       "      <td>LUCKNOW</td>\n",
       "      <td>NORTH ZONE</td>\n",
       "      <td>20200402.0</td>\n",
       "      <td>...</td>\n",
       "      <td>20200321.0</td>\n",
       "      <td>20200321.0</td>\n",
       "      <td>20210320.0</td>\n",
       "      <td>Bank</td>\n",
       "      <td>UTTAR PRADESH</td>\n",
       "      <td>Bancassurance-Corporate Agent</td>\n",
       "      <td>NEW BUSINESS</td>\n",
       "      <td>0.0</td>\n",
       "      <td>NaN</td>\n",
       "      <td>0.125892</td>\n",
       "    </tr>\n",
       "    <tr>\n",
       "      <th>2</th>\n",
       "      <td>B4911562</td>\n",
       "      <td>1.0</td>\n",
       "      <td>1.0</td>\n",
       "      <td>Apr-20</td>\n",
       "      <td>1.0</td>\n",
       "      <td>New Business Issue</td>\n",
       "      <td>Burglary &amp; House Breaking</td>\n",
       "      <td>RANCHI</td>\n",
       "      <td>EAST ZONE</td>\n",
       "      <td>20200428.0</td>\n",
       "      <td>...</td>\n",
       "      <td>20200423.0</td>\n",
       "      <td>20200423.0</td>\n",
       "      <td>20210422.0</td>\n",
       "      <td>Bank</td>\n",
       "      <td>Jharkhand</td>\n",
       "      <td>Bancassurance-Corporate Agent</td>\n",
       "      <td>NEW BUSINESS</td>\n",
       "      <td>0.0</td>\n",
       "      <td>NaN</td>\n",
       "      <td>0.185771</td>\n",
       "    </tr>\n",
       "    <tr>\n",
       "      <th>3</th>\n",
       "      <td>R9349627</td>\n",
       "      <td>1.0</td>\n",
       "      <td>1.0</td>\n",
       "      <td>Apr-20</td>\n",
       "      <td>1.0</td>\n",
       "      <td>New Business Issue</td>\n",
       "      <td>SPECIFIC MARINE INSURANCE</td>\n",
       "      <td>GHATKOPAR</td>\n",
       "      <td>MUMBAI ZONE</td>\n",
       "      <td>20200427.0</td>\n",
       "      <td>...</td>\n",
       "      <td>20200409.0</td>\n",
       "      <td>20200409.0</td>\n",
       "      <td>20200424.0</td>\n",
       "      <td>Agency Sales</td>\n",
       "      <td>MAHARASHTRA</td>\n",
       "      <td>INDIVIDUAL AGENT</td>\n",
       "      <td>NEW BUSINESS</td>\n",
       "      <td>0.0</td>\n",
       "      <td>NaN</td>\n",
       "      <td>0.155156</td>\n",
       "    </tr>\n",
       "    <tr>\n",
       "      <th>4</th>\n",
       "      <td>M1082508</td>\n",
       "      <td>1.0</td>\n",
       "      <td>1.0</td>\n",
       "      <td>Apr-20</td>\n",
       "      <td>1.0</td>\n",
       "      <td>New Business Issue</td>\n",
       "      <td>Extended Warranty - MOTOR</td>\n",
       "      <td>CORPORATE OFFICE</td>\n",
       "      <td>CORPORATE OFFICE</td>\n",
       "      <td>20200430.0</td>\n",
       "      <td>...</td>\n",
       "      <td>20190626.0</td>\n",
       "      <td>20190626.0</td>\n",
       "      <td>20210303.0</td>\n",
       "      <td>Motor Dealer DSA</td>\n",
       "      <td>Tamil Nadu</td>\n",
       "      <td>MOTOR DEALER</td>\n",
       "      <td>NEW BUSINESS</td>\n",
       "      <td>0.0</td>\n",
       "      <td>NaN</td>\n",
       "      <td>0.001559</td>\n",
       "    </tr>\n",
       "    <tr>\n",
       "      <th>5</th>\n",
       "      <td>M1460038</td>\n",
       "      <td>1.0</td>\n",
       "      <td>1.0</td>\n",
       "      <td>Apr-20</td>\n",
       "      <td>1.0</td>\n",
       "      <td>New Business Issue</td>\n",
       "      <td>Extended Warranty - MOTOR</td>\n",
       "      <td>CORPORATE OFFICE</td>\n",
       "      <td>CORPORATE OFFICE</td>\n",
       "      <td>20200429.0</td>\n",
       "      <td>...</td>\n",
       "      <td>20190417.0</td>\n",
       "      <td>20190417.0</td>\n",
       "      <td>20240415.0</td>\n",
       "      <td>Motor Dealer DSA</td>\n",
       "      <td>Tamil Nadu</td>\n",
       "      <td>MOTOR DEALER</td>\n",
       "      <td>NEW BUSINESS</td>\n",
       "      <td>0.0</td>\n",
       "      <td>NaN</td>\n",
       "      <td>0.002055</td>\n",
       "    </tr>\n",
       "  </tbody>\n",
       "</table>\n",
       "<p>5 rows × 27 columns</p>\n",
       "</div>"
      ],
      "text/plain": [
       "  Policy_Number  Number  Batch Count Month_Year  Policy_Count  \\\n",
       "1      A4883467     1.0          1.0     Apr-20           1.0   \n",
       "2      B4911562     1.0          1.0     Apr-20           1.0   \n",
       "3      R9349627     1.0          1.0     Apr-20           1.0   \n",
       "4      M1082508     1.0          1.0     Apr-20           1.0   \n",
       "5      M1460038     1.0          1.0     Apr-20           1.0   \n",
       "\n",
       "     Transaction Type                Policy Type       Branch Name  \\\n",
       "1  New Business Issue         Accident Insurance           LUCKNOW   \n",
       "2  New Business Issue  Burglary & House Breaking            RANCHI   \n",
       "3  New Business Issue  SPECIFIC MARINE INSURANCE         GHATKOPAR   \n",
       "4  New Business Issue  Extended Warranty - MOTOR  CORPORATE OFFICE   \n",
       "5  New Business Issue  Extended Warranty - MOTOR  CORPORATE OFFICE   \n",
       "\n",
       "          Zone_Name  Transactiondate  ... Effect Date  Policy Start_Date  \\\n",
       "1        NORTH ZONE       20200402.0  ...  20200321.0         20200321.0   \n",
       "2         EAST ZONE       20200428.0  ...  20200423.0         20200423.0   \n",
       "3       MUMBAI ZONE       20200427.0  ...  20200409.0         20200409.0   \n",
       "4  CORPORATE OFFICE       20200430.0  ...  20190626.0         20190626.0   \n",
       "5  CORPORATE OFFICE       20200429.0  ...  20190417.0         20190417.0   \n",
       "\n",
       "   Policy_End_Date  Sales Channel Name      Statename  \\\n",
       "1       20210320.0                Bank  UTTAR PRADESH   \n",
       "2       20210422.0                Bank      Jharkhand   \n",
       "3       20200424.0        Agency Sales    MAHARASHTRA   \n",
       "4       20210303.0    Motor Dealer DSA     Tamil Nadu   \n",
       "5       20240415.0    Motor Dealer DSA     Tamil Nadu   \n",
       "\n",
       "                          Source  Booking_Type  GWP_TERR  F26  \\\n",
       "1  Bancassurance-Corporate Agent  NEW BUSINESS       0.0  NaN   \n",
       "2  Bancassurance-Corporate Agent  NEW BUSINESS       0.0  NaN   \n",
       "3               INDIVIDUAL AGENT  NEW BUSINESS       0.0  NaN   \n",
       "4                   MOTOR DEALER  NEW BUSINESS       0.0  NaN   \n",
       "5                   MOTOR DEALER  NEW BUSINESS       0.0  NaN   \n",
       "\n",
       "   Rate_of_commission  \n",
       "1            0.125892  \n",
       "2            0.185771  \n",
       "3            0.155156  \n",
       "4            0.001559  \n",
       "5            0.002055  \n",
       "\n",
       "[5 rows x 27 columns]"
      ]
     },
     "execution_count": 36,
     "metadata": {},
     "output_type": "execute_result"
    }
   ],
   "source": [
    "df2.head(5)"
   ]
  },
  {
   "cell_type": "code",
   "execution_count": 37,
   "id": "96761316",
   "metadata": {},
   "outputs": [
    {
     "data": {
      "text/plain": [
       "Policy Type\n",
       "Accident Insurance                1.000000\n",
       "Advanced Loss of Profit           0.125177\n",
       "All Risk Insurance                2.112727\n",
       "BS for Co-op Housing Society      0.147084\n",
       "BS for Educational Institution    0.181426\n",
       "                                    ...   \n",
       "TRAVEL SURAKSHA SCHENGEN          1.000000\n",
       "TRAVEL-MULTI TRIP                 1.000000\n",
       "TRAVEL-SENIOR CITIZEN             0.154704\n",
       "Trade Credit Insurance            1.000000\n",
       "Weather Index Based Quota         1.000000\n",
       "Name: Rate_of_commission, Length: 117, dtype: float64"
      ]
     },
     "execution_count": 37,
     "metadata": {},
     "output_type": "execute_result"
    }
   ],
   "source": [
    "#finding that which Policy_Type have highest rate of commission\n",
    "df2.groupby('Policy Type')['Rate_of_commission'].max()"
   ]
  },
  {
   "cell_type": "code",
   "execution_count": 38,
   "id": "03f7692d",
   "metadata": {},
   "outputs": [
    {
     "data": {
      "text/plain": [
       "Sales Channel Name\n",
       "0                              0.173747\n",
       "Agency Sales                  26.110400\n",
       "Bank                           1.035000\n",
       "Composite Agent                4.302400\n",
       "Corporate Broking              8.333333\n",
       "Corporate Sales                1.000000\n",
       "DIRECT CLIENT WALK INS         0.012358\n",
       "Direct                         1.000000\n",
       "Direct Marketing               1.000000\n",
       "Employee Sales Force-POS       1.000000\n",
       "Future Digital marketing       0.035649\n",
       "Future Health Vertical         1.000000\n",
       "Mall Assurance                -0.000454\n",
       "Motor Dealer DSA               1.000000\n",
       "National Tie up                1.000000\n",
       "Online Sales                   1.000000\n",
       "Other institutions             0.023434\n",
       "Partnerships and Alliances     1.923077\n",
       "Retail Broking                 1.006446\n",
       "Rural Business                 1.000000\n",
       "Travel                         1.000000\n",
       "Virtual Sales Office           0.157460\n",
       "Name: Rate_of_commission, dtype: float64"
      ]
     },
     "execution_count": 38,
     "metadata": {},
     "output_type": "execute_result"
    }
   ],
   "source": [
    "#finding that which sales of channel have highest rate of commission\n",
    "df2.groupby('Sales Channel Name')['Rate_of_commission'].max()"
   ]
  },
  {
   "cell_type": "markdown",
   "id": "70f9a027",
   "metadata": {},
   "source": [
    "# Question 6"
   ]
  },
  {
   "cell_type": "code",
   "execution_count": 39,
   "id": "62eeefcf",
   "metadata": {},
   "outputs": [],
   "source": [
    "df2=df.rename(columns={'Total Premium':'Total_Premium','Policy Type':'Policy_Type'})\n",
    "#df_rename"
   ]
  },
  {
   "cell_type": "code",
   "execution_count": 40,
   "id": "2e90f4cd",
   "metadata": {},
   "outputs": [
    {
     "data": {
      "text/plain": [
       "Index(['Policy_Number', 'Number', 'Batch Count', 'Month_Year', 'Policy_Count',\n",
       "       'Transaction Type', 'Policy_Type', 'Branch Name', 'Zone_Name',\n",
       "       'Transactiondate', 'Co-Insurance Or Not', 'Gross Written Premium',\n",
       "       'Commission', 'Total_Premium', 'Service Tax', 'Terr_Si', 'Lib_Si',\n",
       "       'Effect Date', 'Policy Start_Date', 'Policy_End_Date',\n",
       "       'Sales Channel Name', 'Statename', 'Source', 'Booking_Type',\n",
       "       'GWP_TERR'],\n",
       "      dtype='object')"
      ]
     },
     "execution_count": 40,
     "metadata": {},
     "output_type": "execute_result"
    }
   ],
   "source": [
    "df2.columns"
   ]
  },
  {
   "cell_type": "code",
   "execution_count": 41,
   "id": "54125ae8",
   "metadata": {},
   "outputs": [],
   "source": [
    "#Here, making a new column name of prem_ratio and calculated as the Total_Premium/Lib_Si\n",
    "df2['prem_ratio']=df2['Total_Premium']/df2['Lib_Si'] "
   ]
  },
  {
   "cell_type": "code",
   "execution_count": 42,
   "id": "46e4f8aa",
   "metadata": {},
   "outputs": [
    {
     "data": {
      "text/plain": [
       "Index(['Policy_Number', 'Number', 'Batch Count', 'Month_Year', 'Policy_Count',\n",
       "       'Transaction Type', 'Policy_Type', 'Branch Name', 'Zone_Name',\n",
       "       'Transactiondate', 'Co-Insurance Or Not', 'Gross Written Premium',\n",
       "       'Commission', 'Total_Premium', 'Service Tax', 'Terr_Si', 'Lib_Si',\n",
       "       'Effect Date', 'Policy Start_Date', 'Policy_End_Date',\n",
       "       'Sales Channel Name', 'Statename', 'Source', 'Booking_Type', 'GWP_TERR',\n",
       "       'prem_ratio'],\n",
       "      dtype='object')"
      ]
     },
     "execution_count": 42,
     "metadata": {},
     "output_type": "execute_result"
    }
   ],
   "source": [
    "df2.columns"
   ]
  },
  {
   "cell_type": "code",
   "execution_count": 43,
   "id": "fa53946f",
   "metadata": {},
   "outputs": [
    {
     "data": {
      "text/plain": [
       "Policy_Number\n",
       "A0         0.002298\n",
       "A100008    0.001398\n",
       "A100031    0.002404\n",
       "A100033    0.001172\n",
       "A100053    0.002240\n",
       "             ...   \n",
       "W988788    0.003385\n",
       "W992040    0.002942\n",
       "W996594    0.001707\n",
       "W996917    0.000494\n",
       "W998545    0.003037\n",
       "Name: prem_ratio, Length: 265957, dtype: float64"
      ]
     },
     "execution_count": 43,
     "metadata": {},
     "output_type": "execute_result"
    }
   ],
   "source": [
    "#Here we can see that which Policy_Number has highest prem_ratio.\n",
    "df2.groupby('Policy_Number')['prem_ratio'].max()"
   ]
  },
  {
   "cell_type": "code",
   "execution_count": 44,
   "id": "86a85a72",
   "metadata": {},
   "outputs": [],
   "source": [
    "#Print the policy type,sales channel,branch name,zone name and the state name for the same policy as output."
   ]
  },
  {
   "cell_type": "code",
   "execution_count": 45,
   "id": "dc0c5314",
   "metadata": {},
   "outputs": [
    {
     "data": {
      "text/plain": [
       "Policy_Type\n",
       "Accident Insurance              120593\n",
       "Advanced Loss of Profit              3\n",
       "All Risk Insurance                2262\n",
       "Aviation Insurance                   1\n",
       "BS for Co-op Housing Society         4\n",
       "                                 ...  \n",
       "TRAVEL SURAKSHA SCHENGEN           259\n",
       "TRAVEL-MULTI TRIP                   79\n",
       "TRAVEL-SENIOR CITIZEN               17\n",
       "Trade Credit Insurance               6\n",
       "Weather Index Based Quota           38\n",
       "Name: Policy_Type, Length: 107, dtype: int64"
      ]
     },
     "execution_count": 45,
     "metadata": {},
     "output_type": "execute_result"
    }
   ],
   "source": [
    "df2.groupby('Policy_Type')['Policy_Type'].count()"
   ]
  },
  {
   "cell_type": "code",
   "execution_count": 46,
   "id": "5e4e5d3b",
   "metadata": {},
   "outputs": [
    {
     "data": {
      "text/plain": [
       "Sales Channel Name\n",
       "0                                  7\n",
       "Agency Sales                   36227\n",
       "Bank                          192205\n",
       "Composite Agent                   15\n",
       "Corporate Broking              11139\n",
       "Corporate Sales                  329\n",
       "DIRECT CLIENT WALK INS             1\n",
       "Direct                           820\n",
       "Direct Marketing                 674\n",
       "Employee Sales Force-POS           7\n",
       "Future Digital marketing           7\n",
       "Future Health Vertical           384\n",
       "Mall Assurance                     1\n",
       "Motor Dealer DSA               27253\n",
       "National Tie up                 1547\n",
       "Online Sales                     251\n",
       "Other institutions                 2\n",
       "Partnerships and Alliances        29\n",
       "Retail Broking                  3191\n",
       "Rural Business                   332\n",
       "Travel                          1944\n",
       "Virtual Sales Office               9\n",
       "Name: Policy_Number, dtype: int64"
      ]
     },
     "execution_count": 46,
     "metadata": {},
     "output_type": "execute_result"
    }
   ],
   "source": [
    "df2.groupby('Sales Channel Name')['Policy_Number'].count()"
   ]
  },
  {
   "cell_type": "code",
   "execution_count": 47,
   "id": "2592fbb1",
   "metadata": {},
   "outputs": [
    {
     "data": {
      "text/plain": [
       "Branch Name\n",
       "AGARTALA          495\n",
       "AHMEDABAD        3607\n",
       "AHMEDNAGAR        865\n",
       "AJMER             765\n",
       "AKOLA             300\n",
       "                 ... \n",
       "VIJAYAVADA        465\n",
       "VIJAYNAGAR         24\n",
       "VISAKHAPATNAM     558\n",
       "WARANGAL            1\n",
       "WEST DELHI        639\n",
       "Name: Policy_Number, Length: 122, dtype: int64"
      ]
     },
     "execution_count": 47,
     "metadata": {},
     "output_type": "execute_result"
    }
   ],
   "source": [
    "df2.groupby('Branch Name')['Policy_Number'].count()"
   ]
  },
  {
   "cell_type": "code",
   "execution_count": 48,
   "id": "6b4c784b",
   "metadata": {},
   "outputs": [
    {
     "data": {
      "text/plain": [
       "Zone_Name\n",
       "CENTRAL ZONE         23414\n",
       "CORPORATE OFFICE     39412\n",
       "EAST ZONE            17190\n",
       "MUMBAI ZONE          17103\n",
       "NORTH ZONE          146996\n",
       "SOUTH ZONE            7930\n",
       "TN ZONE               5983\n",
       "WEST ZONE            18346\n",
       "Name: Policy_Number, dtype: int64"
      ]
     },
     "execution_count": 48,
     "metadata": {},
     "output_type": "execute_result"
    }
   ],
   "source": [
    "df2.groupby('Zone_Name')['Policy_Number'].count()"
   ]
  },
  {
   "cell_type": "code",
   "execution_count": 49,
   "id": "80217b51",
   "metadata": {},
   "outputs": [
    {
     "data": {
      "text/plain": [
       "Statename\n",
       "121001                       1\n",
       "ANDHRA PRADESH              71\n",
       "ARUNACHAL PRADESH            3\n",
       "AS                           1\n",
       "ASAM                        12\n",
       "                          ... \n",
       "Uttarakhand                320\n",
       "Uttaranchal               1533\n",
       "Vishwa Rd Dhayari Pune       1\n",
       "WEST BENGAL                394\n",
       "West Bengal               6139\n",
       "Name: Policy_Number, Length: 117, dtype: int64"
      ]
     },
     "execution_count": 49,
     "metadata": {},
     "output_type": "execute_result"
    }
   ],
   "source": [
    "df2.groupby('Statename')['Policy_Number'].count()"
   ]
  },
  {
   "cell_type": "markdown",
   "id": "60fdc8ab",
   "metadata": {},
   "source": [
    "# Question 7"
   ]
  },
  {
   "cell_type": "code",
   "execution_count": 50,
   "id": "595195e2",
   "metadata": {},
   "outputs": [
    {
     "data": {
      "text/plain": [
       "2        NaN\n",
       "3        NaN\n",
       "4        NaN\n",
       "5        NaN\n",
       "6        NaN\n",
       "          ..\n",
       "276371   NaN\n",
       "276372   NaN\n",
       "276373   NaN\n",
       "276374   NaN\n",
       "276375   NaN\n",
       "Name: initial, Length: 276374, dtype: float64"
      ]
     },
     "execution_count": 50,
     "metadata": {},
     "output_type": "execute_result"
    }
   ],
   "source": [
    "df2['initial']=df3.groupby('Branch Name')['Gross Written Premium'].sum()\n",
    "df2['initial']"
   ]
  },
  {
   "cell_type": "code",
   "execution_count": 51,
   "id": "3344cbd6",
   "metadata": {},
   "outputs": [
    {
     "data": {
      "text/html": [
       "<div>\n",
       "<style scoped>\n",
       "    .dataframe tbody tr th:only-of-type {\n",
       "        vertical-align: middle;\n",
       "    }\n",
       "\n",
       "    .dataframe tbody tr th {\n",
       "        vertical-align: top;\n",
       "    }\n",
       "\n",
       "    .dataframe thead th {\n",
       "        text-align: right;\n",
       "    }\n",
       "</style>\n",
       "<table border=\"1\" class=\"dataframe\">\n",
       "  <thead>\n",
       "    <tr style=\"text-align: right;\">\n",
       "      <th></th>\n",
       "      <th>Policy_Number</th>\n",
       "      <th>Number</th>\n",
       "      <th>Batch Count</th>\n",
       "      <th>Month_Year</th>\n",
       "      <th>Policy_Count</th>\n",
       "      <th>Transaction Type</th>\n",
       "      <th>Policy_Type</th>\n",
       "      <th>Branch Name</th>\n",
       "      <th>Zone_Name</th>\n",
       "      <th>Transactiondate</th>\n",
       "      <th>...</th>\n",
       "      <th>Effect Date</th>\n",
       "      <th>Policy Start_Date</th>\n",
       "      <th>Policy_End_Date</th>\n",
       "      <th>Sales Channel Name</th>\n",
       "      <th>Statename</th>\n",
       "      <th>Source</th>\n",
       "      <th>Booking_Type</th>\n",
       "      <th>GWP_TERR</th>\n",
       "      <th>prem_ratio</th>\n",
       "      <th>initial</th>\n",
       "    </tr>\n",
       "  </thead>\n",
       "  <tbody>\n",
       "    <tr>\n",
       "      <th>2</th>\n",
       "      <td>M313167</td>\n",
       "      <td>1.0</td>\n",
       "      <td>1.0</td>\n",
       "      <td>20-Apr</td>\n",
       "      <td>1.0</td>\n",
       "      <td>New Business Issue</td>\n",
       "      <td>Extended Warranty - MOTOR</td>\n",
       "      <td>CORPORATE OFFICE</td>\n",
       "      <td>CORPORATE OFFICE</td>\n",
       "      <td>20200417.0</td>\n",
       "      <td>...</td>\n",
       "      <td>20200111.0</td>\n",
       "      <td>20200111.0</td>\n",
       "      <td>20240827.0</td>\n",
       "      <td>National Tie up</td>\n",
       "      <td>Gujarat</td>\n",
       "      <td>National Tie Up</td>\n",
       "      <td>NEW BUSINESS</td>\n",
       "      <td>0.0</td>\n",
       "      <td>inf</td>\n",
       "      <td>NaN</td>\n",
       "    </tr>\n",
       "    <tr>\n",
       "      <th>3</th>\n",
       "      <td>M226177</td>\n",
       "      <td>1.0</td>\n",
       "      <td>1.0</td>\n",
       "      <td>20-Apr</td>\n",
       "      <td>1.0</td>\n",
       "      <td>New Business Issue</td>\n",
       "      <td>Extended Warranty - MOTOR</td>\n",
       "      <td>CORPORATE OFFICE</td>\n",
       "      <td>CORPORATE OFFICE</td>\n",
       "      <td>20200429.0</td>\n",
       "      <td>...</td>\n",
       "      <td>20200229.0</td>\n",
       "      <td>20200229.0</td>\n",
       "      <td>20230503.0</td>\n",
       "      <td>Motor Dealer DSA</td>\n",
       "      <td>Tamil Nadu</td>\n",
       "      <td>MOTOR DEALER</td>\n",
       "      <td>NEW BUSINESS</td>\n",
       "      <td>0.0</td>\n",
       "      <td>inf</td>\n",
       "      <td>NaN</td>\n",
       "    </tr>\n",
       "    <tr>\n",
       "      <th>4</th>\n",
       "      <td>A550713</td>\n",
       "      <td>1.0</td>\n",
       "      <td>1.0</td>\n",
       "      <td>20-Apr</td>\n",
       "      <td>1.0</td>\n",
       "      <td>New Business Issue</td>\n",
       "      <td>Accident Insurance</td>\n",
       "      <td>LUCKNOW</td>\n",
       "      <td>NORTH ZONE</td>\n",
       "      <td>20200413.0</td>\n",
       "      <td>...</td>\n",
       "      <td>20200320.0</td>\n",
       "      <td>20200320.0</td>\n",
       "      <td>20210319.0</td>\n",
       "      <td>Bank</td>\n",
       "      <td>UTTAR PRADESH</td>\n",
       "      <td>Bancassurance-Corporate Agent</td>\n",
       "      <td>NEW BUSINESS</td>\n",
       "      <td>0.0</td>\n",
       "      <td>0.002404</td>\n",
       "      <td>NaN</td>\n",
       "    </tr>\n",
       "    <tr>\n",
       "      <th>5</th>\n",
       "      <td>M465416</td>\n",
       "      <td>1.0</td>\n",
       "      <td>1.0</td>\n",
       "      <td>20-Apr</td>\n",
       "      <td>1.0</td>\n",
       "      <td>New Business Issue</td>\n",
       "      <td>Extended Warranty - MOTOR</td>\n",
       "      <td>CORPORATE OFFICE</td>\n",
       "      <td>CORPORATE OFFICE</td>\n",
       "      <td>20200429.0</td>\n",
       "      <td>...</td>\n",
       "      <td>20181101.0</td>\n",
       "      <td>20181101.0</td>\n",
       "      <td>20230207.0</td>\n",
       "      <td>Motor Dealer DSA</td>\n",
       "      <td>Tamil Nadu</td>\n",
       "      <td>MOTOR DEALER</td>\n",
       "      <td>NEW BUSINESS</td>\n",
       "      <td>0.0</td>\n",
       "      <td>inf</td>\n",
       "      <td>NaN</td>\n",
       "    </tr>\n",
       "    <tr>\n",
       "      <th>6</th>\n",
       "      <td>M963293</td>\n",
       "      <td>1.0</td>\n",
       "      <td>1.0</td>\n",
       "      <td>20-Apr</td>\n",
       "      <td>1.0</td>\n",
       "      <td>New Business Issue</td>\n",
       "      <td>Extended Warranty - MOTOR</td>\n",
       "      <td>CORPORATE OFFICE</td>\n",
       "      <td>CORPORATE OFFICE</td>\n",
       "      <td>20200429.0</td>\n",
       "      <td>...</td>\n",
       "      <td>20191125.0</td>\n",
       "      <td>20191125.0</td>\n",
       "      <td>20230117.0</td>\n",
       "      <td>Motor Dealer DSA</td>\n",
       "      <td>Tamil Nadu</td>\n",
       "      <td>MOTOR DEALER</td>\n",
       "      <td>NEW BUSINESS</td>\n",
       "      <td>0.0</td>\n",
       "      <td>inf</td>\n",
       "      <td>NaN</td>\n",
       "    </tr>\n",
       "  </tbody>\n",
       "</table>\n",
       "<p>5 rows × 27 columns</p>\n",
       "</div>"
      ],
      "text/plain": [
       "  Policy_Number  Number  Batch Count Month_Year  Policy_Count  \\\n",
       "2       M313167     1.0          1.0     20-Apr           1.0   \n",
       "3       M226177     1.0          1.0     20-Apr           1.0   \n",
       "4       A550713     1.0          1.0     20-Apr           1.0   \n",
       "5       M465416     1.0          1.0     20-Apr           1.0   \n",
       "6       M963293     1.0          1.0     20-Apr           1.0   \n",
       "\n",
       "     Transaction Type                Policy_Type       Branch Name  \\\n",
       "2  New Business Issue  Extended Warranty - MOTOR  CORPORATE OFFICE   \n",
       "3  New Business Issue  Extended Warranty - MOTOR  CORPORATE OFFICE   \n",
       "4  New Business Issue         Accident Insurance           LUCKNOW   \n",
       "5  New Business Issue  Extended Warranty - MOTOR  CORPORATE OFFICE   \n",
       "6  New Business Issue  Extended Warranty - MOTOR  CORPORATE OFFICE   \n",
       "\n",
       "          Zone_Name  Transactiondate  ... Effect Date  Policy Start_Date  \\\n",
       "2  CORPORATE OFFICE       20200417.0  ...  20200111.0         20200111.0   \n",
       "3  CORPORATE OFFICE       20200429.0  ...  20200229.0         20200229.0   \n",
       "4        NORTH ZONE       20200413.0  ...  20200320.0         20200320.0   \n",
       "5  CORPORATE OFFICE       20200429.0  ...  20181101.0         20181101.0   \n",
       "6  CORPORATE OFFICE       20200429.0  ...  20191125.0         20191125.0   \n",
       "\n",
       "   Policy_End_Date  Sales Channel Name      Statename  \\\n",
       "2       20240827.0     National Tie up        Gujarat   \n",
       "3       20230503.0    Motor Dealer DSA     Tamil Nadu   \n",
       "4       20210319.0                Bank  UTTAR PRADESH   \n",
       "5       20230207.0    Motor Dealer DSA     Tamil Nadu   \n",
       "6       20230117.0    Motor Dealer DSA     Tamil Nadu   \n",
       "\n",
       "                          Source  Booking_Type  GWP_TERR  prem_ratio  initial  \n",
       "2                National Tie Up  NEW BUSINESS       0.0         inf      NaN  \n",
       "3                   MOTOR DEALER  NEW BUSINESS       0.0         inf      NaN  \n",
       "4  Bancassurance-Corporate Agent  NEW BUSINESS       0.0    0.002404      NaN  \n",
       "5                   MOTOR DEALER  NEW BUSINESS       0.0         inf      NaN  \n",
       "6                   MOTOR DEALER  NEW BUSINESS       0.0         inf      NaN  \n",
       "\n",
       "[5 rows x 27 columns]"
      ]
     },
     "execution_count": 51,
     "metadata": {},
     "output_type": "execute_result"
    }
   ],
   "source": [
    "df2.head(5)"
   ]
  },
  {
   "cell_type": "code",
   "execution_count": 52,
   "id": "c1bc0bb3",
   "metadata": {},
   "outputs": [
    {
     "name": "stderr",
     "output_type": "stream",
     "text": [
      "C:\\Users\\tiwar\\anaconda3\\lib\\site-packages\\IPython\\core\\interactiveshell.py:3444: DtypeWarning: Columns (6,10) have mixed types.Specify dtype option on import or set low_memory=False.\n",
      "  exec(code_obj, self.user_global_ns, self.user_ns)\n"
     ]
    }
   ],
   "source": [
    "new_df=pd.read_csv(r\"C:\\Users\\tiwar\\Documents\\Premium Collection Data Copy.csv\")"
   ]
  },
  {
   "cell_type": "code",
   "execution_count": 53,
   "id": "7ffe0d91",
   "metadata": {},
   "outputs": [
    {
     "data": {
      "text/plain": [
       "Policy Type\n",
       "Advanced Loss of Profit              5\n",
       "All Risk Insurance                3344\n",
       "BS for Co-op Housing Society         3\n",
       "BS for Educational Institution      17\n",
       "BS for Hotels & Restaurant         159\n",
       "                                  ... \n",
       "TRAVEL SURAKSHA SCHENGEN           360\n",
       "TRAVEL-MULTI TRIP                  138\n",
       "TRAVEL-SENIOR CITIZEN               26\n",
       "Trade Credit Insurance               5\n",
       "Weather Index Based Quota           53\n",
       "Name: Policy Type, Length: 116, dtype: int64"
      ]
     },
     "execution_count": 53,
     "metadata": {},
     "output_type": "execute_result"
    }
   ],
   "source": [
    "#So,here we will removed the Accident policy type.\n",
    "new_df.groupby('Policy Type')['Policy Type'].count()"
   ]
  },
  {
   "cell_type": "code",
   "execution_count": 54,
   "id": "8cf9f62b",
   "metadata": {},
   "outputs": [
    {
     "data": {
      "text/plain": [
       "0        NaN\n",
       "1        NaN\n",
       "2        NaN\n",
       "3        NaN\n",
       "4        NaN\n",
       "          ..\n",
       "400000   NaN\n",
       "400001   NaN\n",
       "400002   NaN\n",
       "400003   NaN\n",
       "400004   NaN\n",
       "Name: final, Length: 400005, dtype: float64"
      ]
     },
     "execution_count": 54,
     "metadata": {},
     "output_type": "execute_result"
    }
   ],
   "source": [
    "new_df['final']=new_df.groupby('Branch Name')['Gross Written Premium'].max()\n",
    "new_df['final']"
   ]
  },
  {
   "cell_type": "code",
   "execution_count": 55,
   "id": "8ee3d821",
   "metadata": {},
   "outputs": [
    {
     "data": {
      "text/html": [
       "<div>\n",
       "<style scoped>\n",
       "    .dataframe tbody tr th:only-of-type {\n",
       "        vertical-align: middle;\n",
       "    }\n",
       "\n",
       "    .dataframe tbody tr th {\n",
       "        vertical-align: top;\n",
       "    }\n",
       "\n",
       "    .dataframe thead th {\n",
       "        text-align: right;\n",
       "    }\n",
       "</style>\n",
       "<table border=\"1\" class=\"dataframe\">\n",
       "  <thead>\n",
       "    <tr style=\"text-align: right;\">\n",
       "      <th></th>\n",
       "      <th>Policy_Number</th>\n",
       "      <th>Number</th>\n",
       "      <th>Batch Count</th>\n",
       "      <th>Month_Year</th>\n",
       "      <th>Policy_Count</th>\n",
       "      <th>Transaction Type</th>\n",
       "      <th>Policy Type</th>\n",
       "      <th>Branch Name</th>\n",
       "      <th>Zone_Name</th>\n",
       "      <th>Transactiondate</th>\n",
       "      <th>...</th>\n",
       "      <th>Effect Date</th>\n",
       "      <th>Policy Start_Date</th>\n",
       "      <th>Policy_End_Date</th>\n",
       "      <th>Sales Channel Name</th>\n",
       "      <th>Statename</th>\n",
       "      <th>Source</th>\n",
       "      <th>Booking_Type</th>\n",
       "      <th>GWP_TERR</th>\n",
       "      <th>F26</th>\n",
       "      <th>final</th>\n",
       "    </tr>\n",
       "  </thead>\n",
       "  <tbody>\n",
       "    <tr>\n",
       "      <th>0</th>\n",
       "      <td>NaN</td>\n",
       "      <td>NaN</td>\n",
       "      <td>NaN</td>\n",
       "      <td>NaN</td>\n",
       "      <td>NaN</td>\n",
       "      <td>NaN</td>\n",
       "      <td>NaN</td>\n",
       "      <td>NaN</td>\n",
       "      <td>NaN</td>\n",
       "      <td>NaN</td>\n",
       "      <td>...</td>\n",
       "      <td>NaN</td>\n",
       "      <td>NaN</td>\n",
       "      <td>NaN</td>\n",
       "      <td>NaN</td>\n",
       "      <td>NaN</td>\n",
       "      <td>NaN</td>\n",
       "      <td>NaN</td>\n",
       "      <td>NaN</td>\n",
       "      <td>NaN</td>\n",
       "      <td>NaN</td>\n",
       "    </tr>\n",
       "    <tr>\n",
       "      <th>1</th>\n",
       "      <td>A4883467</td>\n",
       "      <td>1.0</td>\n",
       "      <td>1.0</td>\n",
       "      <td>20-Apr</td>\n",
       "      <td>1.0</td>\n",
       "      <td>New Business Issue</td>\n",
       "      <td>Burglary &amp; House Breaking</td>\n",
       "      <td>LUCKNOW</td>\n",
       "      <td>NORTH ZONE</td>\n",
       "      <td>20200402.0</td>\n",
       "      <td>...</td>\n",
       "      <td>20200321.0</td>\n",
       "      <td>20200321.0</td>\n",
       "      <td>20210320.0</td>\n",
       "      <td>Bank</td>\n",
       "      <td>UTTAR PRADESH</td>\n",
       "      <td>Bancassurance-Corporate Agent</td>\n",
       "      <td>NEW BUSINESS</td>\n",
       "      <td>0.0</td>\n",
       "      <td>NaN</td>\n",
       "      <td>NaN</td>\n",
       "    </tr>\n",
       "    <tr>\n",
       "      <th>2</th>\n",
       "      <td>B4911562</td>\n",
       "      <td>1.0</td>\n",
       "      <td>1.0</td>\n",
       "      <td>20-Apr</td>\n",
       "      <td>1.0</td>\n",
       "      <td>New Business Issue</td>\n",
       "      <td>SPECIFIC MARINE INSURANCE</td>\n",
       "      <td>RANCHI</td>\n",
       "      <td>EAST ZONE</td>\n",
       "      <td>20200428.0</td>\n",
       "      <td>...</td>\n",
       "      <td>20200423.0</td>\n",
       "      <td>20200423.0</td>\n",
       "      <td>20210422.0</td>\n",
       "      <td>Bank</td>\n",
       "      <td>Jharkhand</td>\n",
       "      <td>Bancassurance-Corporate Agent</td>\n",
       "      <td>NEW BUSINESS</td>\n",
       "      <td>0.0</td>\n",
       "      <td>NaN</td>\n",
       "      <td>NaN</td>\n",
       "    </tr>\n",
       "    <tr>\n",
       "      <th>3</th>\n",
       "      <td>R9349627</td>\n",
       "      <td>1.0</td>\n",
       "      <td>1.0</td>\n",
       "      <td>20-Apr</td>\n",
       "      <td>1.0</td>\n",
       "      <td>New Business Issue</td>\n",
       "      <td>Extended Warranty - MOTOR</td>\n",
       "      <td>GHATKOPAR</td>\n",
       "      <td>MUMBAI ZONE</td>\n",
       "      <td>20200427.0</td>\n",
       "      <td>...</td>\n",
       "      <td>20200409.0</td>\n",
       "      <td>20200409.0</td>\n",
       "      <td>20200424.0</td>\n",
       "      <td>Agency Sales</td>\n",
       "      <td>MAHARASHTRA</td>\n",
       "      <td>INDIVIDUAL AGENT</td>\n",
       "      <td>NEW BUSINESS</td>\n",
       "      <td>0.0</td>\n",
       "      <td>NaN</td>\n",
       "      <td>NaN</td>\n",
       "    </tr>\n",
       "    <tr>\n",
       "      <th>4</th>\n",
       "      <td>M1082508</td>\n",
       "      <td>1.0</td>\n",
       "      <td>1.0</td>\n",
       "      <td>20-Apr</td>\n",
       "      <td>1.0</td>\n",
       "      <td>New Business Issue</td>\n",
       "      <td>Extended Warranty - MOTOR</td>\n",
       "      <td>CORPORATE OFFICE</td>\n",
       "      <td>CORPORATE OFFICE</td>\n",
       "      <td>20200430.0</td>\n",
       "      <td>...</td>\n",
       "      <td>20190626.0</td>\n",
       "      <td>20190626.0</td>\n",
       "      <td>20210303.0</td>\n",
       "      <td>Motor Dealer DSA</td>\n",
       "      <td>Tamil Nadu</td>\n",
       "      <td>MOTOR DEALER</td>\n",
       "      <td>NEW BUSINESS</td>\n",
       "      <td>0.0</td>\n",
       "      <td>NaN</td>\n",
       "      <td>NaN</td>\n",
       "    </tr>\n",
       "  </tbody>\n",
       "</table>\n",
       "<p>5 rows × 27 columns</p>\n",
       "</div>"
      ],
      "text/plain": [
       "  Policy_Number  Number  Batch Count Month_Year  Policy_Count  \\\n",
       "0           NaN     NaN          NaN        NaN           NaN   \n",
       "1      A4883467     1.0          1.0     20-Apr           1.0   \n",
       "2      B4911562     1.0          1.0     20-Apr           1.0   \n",
       "3      R9349627     1.0          1.0     20-Apr           1.0   \n",
       "4      M1082508     1.0          1.0     20-Apr           1.0   \n",
       "\n",
       "     Transaction Type                Policy Type       Branch Name  \\\n",
       "0                 NaN                        NaN               NaN   \n",
       "1  New Business Issue  Burglary & House Breaking           LUCKNOW   \n",
       "2  New Business Issue  SPECIFIC MARINE INSURANCE            RANCHI   \n",
       "3  New Business Issue  Extended Warranty - MOTOR         GHATKOPAR   \n",
       "4  New Business Issue  Extended Warranty - MOTOR  CORPORATE OFFICE   \n",
       "\n",
       "          Zone_Name  Transactiondate  ... Effect Date  Policy Start_Date  \\\n",
       "0               NaN              NaN  ...         NaN                NaN   \n",
       "1        NORTH ZONE       20200402.0  ...  20200321.0         20200321.0   \n",
       "2         EAST ZONE       20200428.0  ...  20200423.0         20200423.0   \n",
       "3       MUMBAI ZONE       20200427.0  ...  20200409.0         20200409.0   \n",
       "4  CORPORATE OFFICE       20200430.0  ...  20190626.0         20190626.0   \n",
       "\n",
       "   Policy_End_Date  Sales Channel Name      Statename  \\\n",
       "0              NaN                 NaN            NaN   \n",
       "1       20210320.0                Bank  UTTAR PRADESH   \n",
       "2       20210422.0                Bank      Jharkhand   \n",
       "3       20200424.0        Agency Sales    MAHARASHTRA   \n",
       "4       20210303.0    Motor Dealer DSA     Tamil Nadu   \n",
       "\n",
       "                          Source  Booking_Type  GWP_TERR  F26  final  \n",
       "0                            NaN           NaN       NaN  NaN    NaN  \n",
       "1  Bancassurance-Corporate Agent  NEW BUSINESS       0.0  NaN    NaN  \n",
       "2  Bancassurance-Corporate Agent  NEW BUSINESS       0.0  NaN    NaN  \n",
       "3               INDIVIDUAL AGENT  NEW BUSINESS       0.0  NaN    NaN  \n",
       "4                   MOTOR DEALER  NEW BUSINESS       0.0  NaN    NaN  \n",
       "\n",
       "[5 rows x 27 columns]"
      ]
     },
     "execution_count": 55,
     "metadata": {},
     "output_type": "execute_result"
    }
   ],
   "source": [
    "new_df.head(5)"
   ]
  },
  {
   "cell_type": "code",
   "execution_count": 56,
   "id": "282bf1fe",
   "metadata": {},
   "outputs": [],
   "source": [
    "GWP_per=(((df2['initial']-new_df['final'])/df2['initial'])*100)"
   ]
  },
  {
   "cell_type": "code",
   "execution_count": 57,
   "id": "da82af52",
   "metadata": {},
   "outputs": [
    {
     "data": {
      "text/plain": [
       "0        NaN\n",
       "1        NaN\n",
       "2        NaN\n",
       "3        NaN\n",
       "4        NaN\n",
       "          ..\n",
       "400000   NaN\n",
       "400001   NaN\n",
       "400002   NaN\n",
       "400003   NaN\n",
       "400004   NaN\n",
       "Length: 400005, dtype: float64"
      ]
     },
     "execution_count": 57,
     "metadata": {},
     "output_type": "execute_result"
    }
   ],
   "source": [
    "GWP_per"
   ]
  },
  {
   "cell_type": "markdown",
   "id": "6747f57f",
   "metadata": {},
   "source": [
    "# Question 5"
   ]
  },
  {
   "cell_type": "code",
   "execution_count": 81,
   "id": "506cf25e",
   "metadata": {},
   "outputs": [],
   "source": [
    "def month(a):\n",
    "    return str(a).split('-')[0]"
   ]
  },
  {
   "cell_type": "code",
   "execution_count": 82,
   "id": "05dde458",
   "metadata": {},
   "outputs": [],
   "source": [
    "df3['Month']=df3['Month_Year'].apply(month)"
   ]
  },
  {
   "cell_type": "code",
   "execution_count": 83,
   "id": "524d5a15",
   "metadata": {},
   "outputs": [
    {
     "data": {
      "text/plain": [
       "Policy_Number             object\n",
       "Number                   float64\n",
       "Batch Count              float64\n",
       "Month_Year                object\n",
       "Policy_Count             float64\n",
       "Transaction Type          object\n",
       "Policy Type               object\n",
       "Branch Name               object\n",
       "Zone_Name                 object\n",
       "Transactiondate          float64\n",
       "Co-Insurance Or Not       object\n",
       "Gross Written Premium    float64\n",
       "Commission               float64\n",
       "Total Premium            float64\n",
       "Service Tax              float64\n",
       "TERR_SI                  float64\n",
       "LIB_SI                   float64\n",
       "Effect Date              float64\n",
       "Policy Start_Date        float64\n",
       "Policy_End_Date          float64\n",
       "Sales Channel Name        object\n",
       "Statename                 object\n",
       "Source                    object\n",
       "Booking_Type              object\n",
       "GWP_TERR                 float64\n",
       "F26                      float64\n",
       "final                    float64\n",
       "Month                     object\n",
       "dtype: object"
      ]
     },
     "execution_count": 83,
     "metadata": {},
     "output_type": "execute_result"
    }
   ],
   "source": [
    "new_df.dtypes"
   ]
  },
  {
   "cell_type": "code",
   "execution_count": 94,
   "id": "cfa4077d",
   "metadata": {},
   "outputs": [
    {
     "data": {
      "text/plain": [
       "array(['20', 'Apr', 'Aug', 'Dec', 'Feb', 'Jan', 'Jul', 'Jun', 'Mar',\n",
       "       'May', 'Nov', 'Oct', 'Sep'], dtype=object)"
      ]
     },
     "execution_count": 94,
     "metadata": {},
     "output_type": "execute_result"
    }
   ],
   "source": [
    "Month=df3['Month'].unique()\n",
    "Month"
   ]
  },
  {
   "cell_type": "code",
   "execution_count": 95,
   "id": "0fcf1b6a",
   "metadata": {},
   "outputs": [
    {
     "data": {
      "text/plain": [
       "Co-Insurance Or Not\n",
       "No     4.940060e+09\n",
       "Yes   -3.337784e+08\n",
       "Name: Gross Written Premium, dtype: float64"
      ]
     },
     "execution_count": 95,
     "metadata": {},
     "output_type": "execute_result"
    }
   ],
   "source": [
    "df3.groupby('Co-Insurance Or Not')['Gross Written Premium'].sum()"
   ]
  },
  {
   "cell_type": "code",
   "execution_count": 96,
   "id": "af10ee8c",
   "metadata": {},
   "outputs": [],
   "source": [
    "insured=df3.groupby('Month')['Gross Written Premium'].sum()"
   ]
  },
  {
   "cell_type": "code",
   "execution_count": 100,
   "id": "316d86b6",
   "metadata": {},
   "outputs": [
    {
     "data": {
      "image/png": "[encoded data removed]",
      "text/plain": [
       "<Figure size 432x288 with 1 Axes>"
      ]
     },
     "metadata": {
      "needs_background": "light"
     },
     "output_type": "display_data"
    }
   ],
   "source": [
    "x=(Month)\n",
    "y=(insured)\n",
    "plt.xlabel('Month')\n",
    "plt.ylabel('insured')\n",
    "plt.plot(x,y, linewidth=7)\n",
    "plt.show()\n",
    "\n"
   ]
  },
  {
   "cell_type": "code",
   "execution_count": null,
   "id": "f595b4c4",
   "metadata": {},
   "outputs": [],
   "source": []
  }
 ],
 "metadata": {
  "colab": {
   "name": "Python Project.ipynb",
   "provenance": []
  },
  "kernelspec": {
   "display_name": "Python 3 (ipykernel)",
   "language": "python",
   "name": "python3"
  },
  "language_info": {
   "codemirror_mode": {
    "name": "ipython",
    "version": 3
   },
   "file_extension": ".py",
   "mimetype": "text/x-python",
   "name": "python",
   "nbconvert_exporter": "python",
   "pygments_lexer": "ipython3",
   "version": "3.9.7"
  }
 },
 "nbformat": 4,
 "nbformat_minor": 5
}
